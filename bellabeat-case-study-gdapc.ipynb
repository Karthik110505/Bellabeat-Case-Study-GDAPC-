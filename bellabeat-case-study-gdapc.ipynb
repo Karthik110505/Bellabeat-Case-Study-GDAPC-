{
 "cells": [
  {
   "cell_type": "markdown",
   "id": "495dfdfb",
   "metadata": {
    "papermill": {
     "duration": 0.013695,
     "end_time": "2023-11-29T09:28:31.447097",
     "exception": false,
     "start_time": "2023-11-29T09:28:31.433402",
     "status": "completed"
    },
    "tags": []
   },
   "source": [
    "# About a company\n",
    "\n",
    "![](https://encrypted-tbn0.gstatic.com/images?q=tbn:ANd9GcTnml1r1XbvYLIMQQpe7XVVbUnS5_rjJ8brAw&usqp=CAU)\n",
    "\n",
    "Bellabeat, a high-tech manufacturer of health-focused products for women. Bellabeat is a successful small company, but they have the potential to become a larger player in the global smart device market. Urška Sršen, cofounder and Chief Creative Officer of Bellabeat, believes that analyzing smart device fitness data could help unlock new growth opportunities for the company\n",
    "\n",
    "# Questions for the analysis\n",
    "\n",
    "1. What are some trends in smart device usage? \n",
    "2. How could these trends apply to Bellabeat customers? \n",
    "3. How could these trends help influence Bellabeat marketing strategy\n",
    "\n",
    "# Business task\n",
    "\n",
    "Identify potential opportunities for growth and recommendations for the Bellabeat marketing strategy improvement based on trends in smart device usage."
   ]
  },
  {
   "cell_type": "markdown",
   "id": "44902b23",
   "metadata": {
    "papermill": {
     "duration": 0.011963,
     "end_time": "2023-11-29T09:28:31.471124",
     "exception": false,
     "start_time": "2023-11-29T09:28:31.459161",
     "status": "completed"
    },
    "tags": []
   },
   "source": [
    "# Loading packages"
   ]
  },
  {
   "cell_type": "code",
   "execution_count": 1,
   "id": "aa00bd8e",
   "metadata": {
    "execution": {
     "iopub.execute_input": "2023-11-29T09:28:31.501415Z",
     "iopub.status.busy": "2023-11-29T09:28:31.498297Z",
     "iopub.status.idle": "2023-11-29T09:28:32.828794Z",
     "shell.execute_reply": "2023-11-29T09:28:32.826823Z"
    },
    "papermill": {
     "duration": 1.348442,
     "end_time": "2023-11-29T09:28:32.831428",
     "exception": false,
     "start_time": "2023-11-29T09:28:31.482986",
     "status": "completed"
    },
    "tags": []
   },
   "outputs": [
    {
     "name": "stderr",
     "output_type": "stream",
     "text": [
      "── \u001b[1mAttaching core tidyverse packages\u001b[22m ──────────────────────── tidyverse 2.0.0 ──\n",
      "\u001b[32m✔\u001b[39m \u001b[34mdplyr    \u001b[39m 1.1.3     \u001b[32m✔\u001b[39m \u001b[34mreadr    \u001b[39m 2.1.4\n",
      "\u001b[32m✔\u001b[39m \u001b[34mforcats  \u001b[39m 1.0.0     \u001b[32m✔\u001b[39m \u001b[34mstringr  \u001b[39m 1.5.0\n",
      "\u001b[32m✔\u001b[39m \u001b[34mggplot2  \u001b[39m 3.4.4     \u001b[32m✔\u001b[39m \u001b[34mtibble   \u001b[39m 3.2.1\n",
      "\u001b[32m✔\u001b[39m \u001b[34mlubridate\u001b[39m 1.9.3     \u001b[32m✔\u001b[39m \u001b[34mtidyr    \u001b[39m 1.3.0\n",
      "\u001b[32m✔\u001b[39m \u001b[34mpurrr    \u001b[39m 1.0.2     \n",
      "── \u001b[1mConflicts\u001b[22m ────────────────────────────────────────── tidyverse_conflicts() ──\n",
      "\u001b[31m✖\u001b[39m \u001b[34mdplyr\u001b[39m::\u001b[32mfilter()\u001b[39m masks \u001b[34mstats\u001b[39m::filter()\n",
      "\u001b[31m✖\u001b[39m \u001b[34mdplyr\u001b[39m::\u001b[32mlag()\u001b[39m    masks \u001b[34mstats\u001b[39m::lag()\n",
      "\u001b[36mℹ\u001b[39m Use the conflicted package (\u001b[3m\u001b[34m<http://conflicted.r-lib.org/>\u001b[39m\u001b[23m) to force all conflicts to become errors\n"
     ]
    }
   ],
   "source": [
    "library(tidyverse) \n",
    "library(dplyr)"
   ]
  },
  {
   "cell_type": "markdown",
   "id": "ede97588",
   "metadata": {
    "papermill": {
     "duration": 0.012017,
     "end_time": "2023-11-29T09:28:32.855898",
     "exception": false,
     "start_time": "2023-11-29T09:28:32.843881",
     "status": "completed"
    },
    "tags": []
   },
   "source": [
    "# Importing Datasets\n",
    "\n",
    "For this project I am importing required datasets only from FitBit Fitness Tracker [Data](https://www.kaggle.com/arashnic/fitbit)."
   ]
  },
  {
   "cell_type": "code",
   "execution_count": 2,
   "id": "69baab5e",
   "metadata": {
    "execution": {
     "iopub.execute_input": "2023-11-29T09:28:32.916824Z",
     "iopub.status.busy": "2023-11-29T09:28:32.882925Z",
     "iopub.status.idle": "2023-11-29T09:28:36.832633Z",
     "shell.execute_reply": "2023-11-29T09:28:36.829801Z"
    },
    "papermill": {
     "duration": 3.969678,
     "end_time": "2023-11-29T09:28:36.837596",
     "exception": false,
     "start_time": "2023-11-29T09:28:32.867918",
     "status": "completed"
    },
    "tags": []
   },
   "outputs": [
    {
     "name": "stderr",
     "output_type": "stream",
     "text": [
      "\u001b[1mRows: \u001b[22m\u001b[34m940\u001b[39m \u001b[1mColumns: \u001b[22m\u001b[34m15\u001b[39m\n",
      "\u001b[36m──\u001b[39m \u001b[1mColumn specification\u001b[22m \u001b[36m────────────────────────────────────────────────────────\u001b[39m\n",
      "\u001b[1mDelimiter:\u001b[22m \",\"\n",
      "\u001b[31mchr\u001b[39m  (1): ActivityDate\n",
      "\u001b[32mdbl\u001b[39m (14): Id, TotalSteps, TotalDistance, TrackerDistance, LoggedActivitiesDi...\n",
      "\n",
      "\u001b[36mℹ\u001b[39m Use `spec()` to retrieve the full column specification for this data.\n",
      "\u001b[36mℹ\u001b[39m Specify the column types or set `show_col_types = FALSE` to quiet this message.\n",
      "\u001b[1mRows: \u001b[22m\u001b[34m2483658\u001b[39m \u001b[1mColumns: \u001b[22m\u001b[34m3\u001b[39m\n",
      "\u001b[36m──\u001b[39m \u001b[1mColumn specification\u001b[22m \u001b[36m────────────────────────────────────────────────────────\u001b[39m\n",
      "\u001b[1mDelimiter:\u001b[22m \",\"\n",
      "\u001b[31mchr\u001b[39m (1): Time\n",
      "\u001b[32mdbl\u001b[39m (2): Id, Value\n",
      "\n",
      "\u001b[36mℹ\u001b[39m Use `spec()` to retrieve the full column specification for this data.\n",
      "\u001b[36mℹ\u001b[39m Specify the column types or set `show_col_types = FALSE` to quiet this message.\n",
      "\u001b[1mRows: \u001b[22m\u001b[34m413\u001b[39m \u001b[1mColumns: \u001b[22m\u001b[34m5\u001b[39m\n",
      "\u001b[36m──\u001b[39m \u001b[1mColumn specification\u001b[22m \u001b[36m────────────────────────────────────────────────────────\u001b[39m\n",
      "\u001b[1mDelimiter:\u001b[22m \",\"\n",
      "\u001b[31mchr\u001b[39m (1): SleepDay\n",
      "\u001b[32mdbl\u001b[39m (4): Id, TotalSleepRecords, TotalMinutesAsleep, TotalTimeInBed\n",
      "\n",
      "\u001b[36mℹ\u001b[39m Use `spec()` to retrieve the full column specification for this data.\n",
      "\u001b[36mℹ\u001b[39m Specify the column types or set `show_col_types = FALSE` to quiet this message.\n",
      "\u001b[1mRows: \u001b[22m\u001b[34m67\u001b[39m \u001b[1mColumns: \u001b[22m\u001b[34m8\u001b[39m\n",
      "\u001b[36m──\u001b[39m \u001b[1mColumn specification\u001b[22m \u001b[36m────────────────────────────────────────────────────────\u001b[39m\n",
      "\u001b[1mDelimiter:\u001b[22m \",\"\n",
      "\u001b[31mchr\u001b[39m (1): Date\n",
      "\u001b[32mdbl\u001b[39m (6): Id, WeightKg, WeightPounds, Fat, BMI, LogId\n",
      "\u001b[33mlgl\u001b[39m (1): IsManualReport\n",
      "\n",
      "\u001b[36mℹ\u001b[39m Use `spec()` to retrieve the full column specification for this data.\n",
      "\u001b[36mℹ\u001b[39m Specify the column types or set `show_col_types = FALSE` to quiet this message.\n"
     ]
    }
   ],
   "source": [
    "daily_activity <- read_csv(\"/kaggle/input/fitbit/Fitabase Data 4.12.16-5.12.16/dailyActivity_merged.csv\")\n",
    "heartrate_seconds <- read_csv(\"/kaggle/input/fitbit/Fitabase Data 4.12.16-5.12.16/heartrate_seconds_merged.csv\")\n",
    "sleepDay <- read_csv(\"/kaggle/input/fitbit/Fitabase Data 4.12.16-5.12.16/sleepDay_merged.csv\")\n",
    "weightLog <- read_csv(\"/kaggle/input/fitbit/Fitabase Data 4.12.16-5.12.16/weightLogInfo_merged.csv\")"
   ]
  },
  {
   "cell_type": "code",
   "execution_count": 3,
   "id": "43250a5b",
   "metadata": {
    "execution": {
     "iopub.execute_input": "2023-11-29T09:28:36.878962Z",
     "iopub.status.busy": "2023-11-29T09:28:36.876474Z",
     "iopub.status.idle": "2023-11-29T09:28:37.030785Z",
     "shell.execute_reply": "2023-11-29T09:28:37.028553Z"
    },
    "papermill": {
     "duration": 0.176846,
     "end_time": "2023-11-29T09:28:37.033852",
     "exception": false,
     "start_time": "2023-11-29T09:28:36.857006",
     "status": "completed"
    },
    "tags": []
   },
   "outputs": [
    {
     "data": {
      "text/html": [
       "<table class=\"dataframe\">\n",
       "<caption>A tibble: 6 × 15</caption>\n",
       "<thead>\n",
       "\t<tr><th scope=col>Id</th><th scope=col>ActivityDate</th><th scope=col>TotalSteps</th><th scope=col>TotalDistance</th><th scope=col>TrackerDistance</th><th scope=col>LoggedActivitiesDistance</th><th scope=col>VeryActiveDistance</th><th scope=col>ModeratelyActiveDistance</th><th scope=col>LightActiveDistance</th><th scope=col>SedentaryActiveDistance</th><th scope=col>VeryActiveMinutes</th><th scope=col>FairlyActiveMinutes</th><th scope=col>LightlyActiveMinutes</th><th scope=col>SedentaryMinutes</th><th scope=col>Calories</th></tr>\n",
       "\t<tr><th scope=col>&lt;dbl&gt;</th><th scope=col>&lt;chr&gt;</th><th scope=col>&lt;dbl&gt;</th><th scope=col>&lt;dbl&gt;</th><th scope=col>&lt;dbl&gt;</th><th scope=col>&lt;dbl&gt;</th><th scope=col>&lt;dbl&gt;</th><th scope=col>&lt;dbl&gt;</th><th scope=col>&lt;dbl&gt;</th><th scope=col>&lt;dbl&gt;</th><th scope=col>&lt;dbl&gt;</th><th scope=col>&lt;dbl&gt;</th><th scope=col>&lt;dbl&gt;</th><th scope=col>&lt;dbl&gt;</th><th scope=col>&lt;dbl&gt;</th></tr>\n",
       "</thead>\n",
       "<tbody>\n",
       "\t<tr><td>1503960366</td><td>4/12/2016</td><td>13162</td><td>8.50</td><td>8.50</td><td>0</td><td>1.88</td><td>0.55</td><td>6.06</td><td>0</td><td>25</td><td>13</td><td>328</td><td> 728</td><td>1985</td></tr>\n",
       "\t<tr><td>1503960366</td><td>4/13/2016</td><td>10735</td><td>6.97</td><td>6.97</td><td>0</td><td>1.57</td><td>0.69</td><td>4.71</td><td>0</td><td>21</td><td>19</td><td>217</td><td> 776</td><td>1797</td></tr>\n",
       "\t<tr><td>1503960366</td><td>4/14/2016</td><td>10460</td><td>6.74</td><td>6.74</td><td>0</td><td>2.44</td><td>0.40</td><td>3.91</td><td>0</td><td>30</td><td>11</td><td>181</td><td>1218</td><td>1776</td></tr>\n",
       "\t<tr><td>1503960366</td><td>4/15/2016</td><td> 9762</td><td>6.28</td><td>6.28</td><td>0</td><td>2.14</td><td>1.26</td><td>2.83</td><td>0</td><td>29</td><td>34</td><td>209</td><td> 726</td><td>1745</td></tr>\n",
       "\t<tr><td>1503960366</td><td>4/16/2016</td><td>12669</td><td>8.16</td><td>8.16</td><td>0</td><td>2.71</td><td>0.41</td><td>5.04</td><td>0</td><td>36</td><td>10</td><td>221</td><td> 773</td><td>1863</td></tr>\n",
       "\t<tr><td>1503960366</td><td>4/17/2016</td><td> 9705</td><td>6.48</td><td>6.48</td><td>0</td><td>3.19</td><td>0.78</td><td>2.51</td><td>0</td><td>38</td><td>20</td><td>164</td><td> 539</td><td>1728</td></tr>\n",
       "</tbody>\n",
       "</table>\n"
      ],
      "text/latex": [
       "A tibble: 6 × 15\n",
       "\\begin{tabular}{lllllllllllllll}\n",
       " Id & ActivityDate & TotalSteps & TotalDistance & TrackerDistance & LoggedActivitiesDistance & VeryActiveDistance & ModeratelyActiveDistance & LightActiveDistance & SedentaryActiveDistance & VeryActiveMinutes & FairlyActiveMinutes & LightlyActiveMinutes & SedentaryMinutes & Calories\\\\\n",
       " <dbl> & <chr> & <dbl> & <dbl> & <dbl> & <dbl> & <dbl> & <dbl> & <dbl> & <dbl> & <dbl> & <dbl> & <dbl> & <dbl> & <dbl>\\\\\n",
       "\\hline\n",
       "\t 1503960366 & 4/12/2016 & 13162 & 8.50 & 8.50 & 0 & 1.88 & 0.55 & 6.06 & 0 & 25 & 13 & 328 &  728 & 1985\\\\\n",
       "\t 1503960366 & 4/13/2016 & 10735 & 6.97 & 6.97 & 0 & 1.57 & 0.69 & 4.71 & 0 & 21 & 19 & 217 &  776 & 1797\\\\\n",
       "\t 1503960366 & 4/14/2016 & 10460 & 6.74 & 6.74 & 0 & 2.44 & 0.40 & 3.91 & 0 & 30 & 11 & 181 & 1218 & 1776\\\\\n",
       "\t 1503960366 & 4/15/2016 &  9762 & 6.28 & 6.28 & 0 & 2.14 & 1.26 & 2.83 & 0 & 29 & 34 & 209 &  726 & 1745\\\\\n",
       "\t 1503960366 & 4/16/2016 & 12669 & 8.16 & 8.16 & 0 & 2.71 & 0.41 & 5.04 & 0 & 36 & 10 & 221 &  773 & 1863\\\\\n",
       "\t 1503960366 & 4/17/2016 &  9705 & 6.48 & 6.48 & 0 & 3.19 & 0.78 & 2.51 & 0 & 38 & 20 & 164 &  539 & 1728\\\\\n",
       "\\end{tabular}\n"
      ],
      "text/markdown": [
       "\n",
       "A tibble: 6 × 15\n",
       "\n",
       "| Id &lt;dbl&gt; | ActivityDate &lt;chr&gt; | TotalSteps &lt;dbl&gt; | TotalDistance &lt;dbl&gt; | TrackerDistance &lt;dbl&gt; | LoggedActivitiesDistance &lt;dbl&gt; | VeryActiveDistance &lt;dbl&gt; | ModeratelyActiveDistance &lt;dbl&gt; | LightActiveDistance &lt;dbl&gt; | SedentaryActiveDistance &lt;dbl&gt; | VeryActiveMinutes &lt;dbl&gt; | FairlyActiveMinutes &lt;dbl&gt; | LightlyActiveMinutes &lt;dbl&gt; | SedentaryMinutes &lt;dbl&gt; | Calories &lt;dbl&gt; |\n",
       "|---|---|---|---|---|---|---|---|---|---|---|---|---|---|---|\n",
       "| 1503960366 | 4/12/2016 | 13162 | 8.50 | 8.50 | 0 | 1.88 | 0.55 | 6.06 | 0 | 25 | 13 | 328 |  728 | 1985 |\n",
       "| 1503960366 | 4/13/2016 | 10735 | 6.97 | 6.97 | 0 | 1.57 | 0.69 | 4.71 | 0 | 21 | 19 | 217 |  776 | 1797 |\n",
       "| 1503960366 | 4/14/2016 | 10460 | 6.74 | 6.74 | 0 | 2.44 | 0.40 | 3.91 | 0 | 30 | 11 | 181 | 1218 | 1776 |\n",
       "| 1503960366 | 4/15/2016 |  9762 | 6.28 | 6.28 | 0 | 2.14 | 1.26 | 2.83 | 0 | 29 | 34 | 209 |  726 | 1745 |\n",
       "| 1503960366 | 4/16/2016 | 12669 | 8.16 | 8.16 | 0 | 2.71 | 0.41 | 5.04 | 0 | 36 | 10 | 221 |  773 | 1863 |\n",
       "| 1503960366 | 4/17/2016 |  9705 | 6.48 | 6.48 | 0 | 3.19 | 0.78 | 2.51 | 0 | 38 | 20 | 164 |  539 | 1728 |\n",
       "\n"
      ],
      "text/plain": [
       "  Id         ActivityDate TotalSteps TotalDistance TrackerDistance\n",
       "1 1503960366 4/12/2016    13162      8.50          8.50           \n",
       "2 1503960366 4/13/2016    10735      6.97          6.97           \n",
       "3 1503960366 4/14/2016    10460      6.74          6.74           \n",
       "4 1503960366 4/15/2016     9762      6.28          6.28           \n",
       "5 1503960366 4/16/2016    12669      8.16          8.16           \n",
       "6 1503960366 4/17/2016     9705      6.48          6.48           \n",
       "  LoggedActivitiesDistance VeryActiveDistance ModeratelyActiveDistance\n",
       "1 0                        1.88               0.55                    \n",
       "2 0                        1.57               0.69                    \n",
       "3 0                        2.44               0.40                    \n",
       "4 0                        2.14               1.26                    \n",
       "5 0                        2.71               0.41                    \n",
       "6 0                        3.19               0.78                    \n",
       "  LightActiveDistance SedentaryActiveDistance VeryActiveMinutes\n",
       "1 6.06                0                       25               \n",
       "2 4.71                0                       21               \n",
       "3 3.91                0                       30               \n",
       "4 2.83                0                       29               \n",
       "5 5.04                0                       36               \n",
       "6 2.51                0                       38               \n",
       "  FairlyActiveMinutes LightlyActiveMinutes SedentaryMinutes Calories\n",
       "1 13                  328                   728             1985    \n",
       "2 19                  217                   776             1797    \n",
       "3 11                  181                  1218             1776    \n",
       "4 34                  209                   726             1745    \n",
       "5 10                  221                   773             1863    \n",
       "6 20                  164                   539             1728    "
      ]
     },
     "metadata": {},
     "output_type": "display_data"
    },
    {
     "data": {
      "text/html": [
       "<table class=\"dataframe\">\n",
       "<caption>A tibble: 6 × 3</caption>\n",
       "<thead>\n",
       "\t<tr><th scope=col>Id</th><th scope=col>Time</th><th scope=col>Value</th></tr>\n",
       "\t<tr><th scope=col>&lt;dbl&gt;</th><th scope=col>&lt;chr&gt;</th><th scope=col>&lt;dbl&gt;</th></tr>\n",
       "</thead>\n",
       "<tbody>\n",
       "\t<tr><td>2022484408</td><td>4/12/2016 7:21:00 AM</td><td> 97</td></tr>\n",
       "\t<tr><td>2022484408</td><td>4/12/2016 7:21:05 AM</td><td>102</td></tr>\n",
       "\t<tr><td>2022484408</td><td>4/12/2016 7:21:10 AM</td><td>105</td></tr>\n",
       "\t<tr><td>2022484408</td><td>4/12/2016 7:21:20 AM</td><td>103</td></tr>\n",
       "\t<tr><td>2022484408</td><td>4/12/2016 7:21:25 AM</td><td>101</td></tr>\n",
       "\t<tr><td>2022484408</td><td>4/12/2016 7:22:05 AM</td><td> 95</td></tr>\n",
       "</tbody>\n",
       "</table>\n"
      ],
      "text/latex": [
       "A tibble: 6 × 3\n",
       "\\begin{tabular}{lll}\n",
       " Id & Time & Value\\\\\n",
       " <dbl> & <chr> & <dbl>\\\\\n",
       "\\hline\n",
       "\t 2022484408 & 4/12/2016 7:21:00 AM &  97\\\\\n",
       "\t 2022484408 & 4/12/2016 7:21:05 AM & 102\\\\\n",
       "\t 2022484408 & 4/12/2016 7:21:10 AM & 105\\\\\n",
       "\t 2022484408 & 4/12/2016 7:21:20 AM & 103\\\\\n",
       "\t 2022484408 & 4/12/2016 7:21:25 AM & 101\\\\\n",
       "\t 2022484408 & 4/12/2016 7:22:05 AM &  95\\\\\n",
       "\\end{tabular}\n"
      ],
      "text/markdown": [
       "\n",
       "A tibble: 6 × 3\n",
       "\n",
       "| Id &lt;dbl&gt; | Time &lt;chr&gt; | Value &lt;dbl&gt; |\n",
       "|---|---|---|\n",
       "| 2022484408 | 4/12/2016 7:21:00 AM |  97 |\n",
       "| 2022484408 | 4/12/2016 7:21:05 AM | 102 |\n",
       "| 2022484408 | 4/12/2016 7:21:10 AM | 105 |\n",
       "| 2022484408 | 4/12/2016 7:21:20 AM | 103 |\n",
       "| 2022484408 | 4/12/2016 7:21:25 AM | 101 |\n",
       "| 2022484408 | 4/12/2016 7:22:05 AM |  95 |\n",
       "\n"
      ],
      "text/plain": [
       "  Id         Time                 Value\n",
       "1 2022484408 4/12/2016 7:21:00 AM  97  \n",
       "2 2022484408 4/12/2016 7:21:05 AM 102  \n",
       "3 2022484408 4/12/2016 7:21:10 AM 105  \n",
       "4 2022484408 4/12/2016 7:21:20 AM 103  \n",
       "5 2022484408 4/12/2016 7:21:25 AM 101  \n",
       "6 2022484408 4/12/2016 7:22:05 AM  95  "
      ]
     },
     "metadata": {},
     "output_type": "display_data"
    },
    {
     "data": {
      "text/html": [
       "<table class=\"dataframe\">\n",
       "<caption>A tibble: 6 × 5</caption>\n",
       "<thead>\n",
       "\t<tr><th scope=col>Id</th><th scope=col>SleepDay</th><th scope=col>TotalSleepRecords</th><th scope=col>TotalMinutesAsleep</th><th scope=col>TotalTimeInBed</th></tr>\n",
       "\t<tr><th scope=col>&lt;dbl&gt;</th><th scope=col>&lt;chr&gt;</th><th scope=col>&lt;dbl&gt;</th><th scope=col>&lt;dbl&gt;</th><th scope=col>&lt;dbl&gt;</th></tr>\n",
       "</thead>\n",
       "<tbody>\n",
       "\t<tr><td>1503960366</td><td>4/12/2016 12:00:00 AM</td><td>1</td><td>327</td><td>346</td></tr>\n",
       "\t<tr><td>1503960366</td><td>4/13/2016 12:00:00 AM</td><td>2</td><td>384</td><td>407</td></tr>\n",
       "\t<tr><td>1503960366</td><td>4/15/2016 12:00:00 AM</td><td>1</td><td>412</td><td>442</td></tr>\n",
       "\t<tr><td>1503960366</td><td>4/16/2016 12:00:00 AM</td><td>2</td><td>340</td><td>367</td></tr>\n",
       "\t<tr><td>1503960366</td><td>4/17/2016 12:00:00 AM</td><td>1</td><td>700</td><td>712</td></tr>\n",
       "\t<tr><td>1503960366</td><td>4/19/2016 12:00:00 AM</td><td>1</td><td>304</td><td>320</td></tr>\n",
       "</tbody>\n",
       "</table>\n"
      ],
      "text/latex": [
       "A tibble: 6 × 5\n",
       "\\begin{tabular}{lllll}\n",
       " Id & SleepDay & TotalSleepRecords & TotalMinutesAsleep & TotalTimeInBed\\\\\n",
       " <dbl> & <chr> & <dbl> & <dbl> & <dbl>\\\\\n",
       "\\hline\n",
       "\t 1503960366 & 4/12/2016 12:00:00 AM & 1 & 327 & 346\\\\\n",
       "\t 1503960366 & 4/13/2016 12:00:00 AM & 2 & 384 & 407\\\\\n",
       "\t 1503960366 & 4/15/2016 12:00:00 AM & 1 & 412 & 442\\\\\n",
       "\t 1503960366 & 4/16/2016 12:00:00 AM & 2 & 340 & 367\\\\\n",
       "\t 1503960366 & 4/17/2016 12:00:00 AM & 1 & 700 & 712\\\\\n",
       "\t 1503960366 & 4/19/2016 12:00:00 AM & 1 & 304 & 320\\\\\n",
       "\\end{tabular}\n"
      ],
      "text/markdown": [
       "\n",
       "A tibble: 6 × 5\n",
       "\n",
       "| Id &lt;dbl&gt; | SleepDay &lt;chr&gt; | TotalSleepRecords &lt;dbl&gt; | TotalMinutesAsleep &lt;dbl&gt; | TotalTimeInBed &lt;dbl&gt; |\n",
       "|---|---|---|---|---|\n",
       "| 1503960366 | 4/12/2016 12:00:00 AM | 1 | 327 | 346 |\n",
       "| 1503960366 | 4/13/2016 12:00:00 AM | 2 | 384 | 407 |\n",
       "| 1503960366 | 4/15/2016 12:00:00 AM | 1 | 412 | 442 |\n",
       "| 1503960366 | 4/16/2016 12:00:00 AM | 2 | 340 | 367 |\n",
       "| 1503960366 | 4/17/2016 12:00:00 AM | 1 | 700 | 712 |\n",
       "| 1503960366 | 4/19/2016 12:00:00 AM | 1 | 304 | 320 |\n",
       "\n"
      ],
      "text/plain": [
       "  Id         SleepDay              TotalSleepRecords TotalMinutesAsleep\n",
       "1 1503960366 4/12/2016 12:00:00 AM 1                 327               \n",
       "2 1503960366 4/13/2016 12:00:00 AM 2                 384               \n",
       "3 1503960366 4/15/2016 12:00:00 AM 1                 412               \n",
       "4 1503960366 4/16/2016 12:00:00 AM 2                 340               \n",
       "5 1503960366 4/17/2016 12:00:00 AM 1                 700               \n",
       "6 1503960366 4/19/2016 12:00:00 AM 1                 304               \n",
       "  TotalTimeInBed\n",
       "1 346           \n",
       "2 407           \n",
       "3 442           \n",
       "4 367           \n",
       "5 712           \n",
       "6 320           "
      ]
     },
     "metadata": {},
     "output_type": "display_data"
    },
    {
     "data": {
      "text/html": [
       "<table class=\"dataframe\">\n",
       "<caption>A tibble: 6 × 8</caption>\n",
       "<thead>\n",
       "\t<tr><th scope=col>Id</th><th scope=col>Date</th><th scope=col>WeightKg</th><th scope=col>WeightPounds</th><th scope=col>Fat</th><th scope=col>BMI</th><th scope=col>IsManualReport</th><th scope=col>LogId</th></tr>\n",
       "\t<tr><th scope=col>&lt;dbl&gt;</th><th scope=col>&lt;chr&gt;</th><th scope=col>&lt;dbl&gt;</th><th scope=col>&lt;dbl&gt;</th><th scope=col>&lt;dbl&gt;</th><th scope=col>&lt;dbl&gt;</th><th scope=col>&lt;lgl&gt;</th><th scope=col>&lt;dbl&gt;</th></tr>\n",
       "</thead>\n",
       "<tbody>\n",
       "\t<tr><td>1503960366</td><td>5/2/2016 11:59:59 PM </td><td> 52.6</td><td>115.9631</td><td>22</td><td>22.65</td><td> TRUE</td><td>1.462234e+12</td></tr>\n",
       "\t<tr><td>1503960366</td><td>5/3/2016 11:59:59 PM </td><td> 52.6</td><td>115.9631</td><td>NA</td><td>22.65</td><td> TRUE</td><td>1.462320e+12</td></tr>\n",
       "\t<tr><td>1927972279</td><td>4/13/2016 1:08:52 AM </td><td>133.5</td><td>294.3171</td><td>NA</td><td>47.54</td><td>FALSE</td><td>1.460510e+12</td></tr>\n",
       "\t<tr><td>2873212765</td><td>4/21/2016 11:59:59 PM</td><td> 56.7</td><td>125.0021</td><td>NA</td><td>21.45</td><td> TRUE</td><td>1.461283e+12</td></tr>\n",
       "\t<tr><td>2873212765</td><td>5/12/2016 11:59:59 PM</td><td> 57.3</td><td>126.3249</td><td>NA</td><td>21.69</td><td> TRUE</td><td>1.463098e+12</td></tr>\n",
       "\t<tr><td>4319703577</td><td>4/17/2016 11:59:59 PM</td><td> 72.4</td><td>159.6147</td><td>25</td><td>27.45</td><td> TRUE</td><td>1.460938e+12</td></tr>\n",
       "</tbody>\n",
       "</table>\n"
      ],
      "text/latex": [
       "A tibble: 6 × 8\n",
       "\\begin{tabular}{llllllll}\n",
       " Id & Date & WeightKg & WeightPounds & Fat & BMI & IsManualReport & LogId\\\\\n",
       " <dbl> & <chr> & <dbl> & <dbl> & <dbl> & <dbl> & <lgl> & <dbl>\\\\\n",
       "\\hline\n",
       "\t 1503960366 & 5/2/2016 11:59:59 PM  &  52.6 & 115.9631 & 22 & 22.65 &  TRUE & 1.462234e+12\\\\\n",
       "\t 1503960366 & 5/3/2016 11:59:59 PM  &  52.6 & 115.9631 & NA & 22.65 &  TRUE & 1.462320e+12\\\\\n",
       "\t 1927972279 & 4/13/2016 1:08:52 AM  & 133.5 & 294.3171 & NA & 47.54 & FALSE & 1.460510e+12\\\\\n",
       "\t 2873212765 & 4/21/2016 11:59:59 PM &  56.7 & 125.0021 & NA & 21.45 &  TRUE & 1.461283e+12\\\\\n",
       "\t 2873212765 & 5/12/2016 11:59:59 PM &  57.3 & 126.3249 & NA & 21.69 &  TRUE & 1.463098e+12\\\\\n",
       "\t 4319703577 & 4/17/2016 11:59:59 PM &  72.4 & 159.6147 & 25 & 27.45 &  TRUE & 1.460938e+12\\\\\n",
       "\\end{tabular}\n"
      ],
      "text/markdown": [
       "\n",
       "A tibble: 6 × 8\n",
       "\n",
       "| Id &lt;dbl&gt; | Date &lt;chr&gt; | WeightKg &lt;dbl&gt; | WeightPounds &lt;dbl&gt; | Fat &lt;dbl&gt; | BMI &lt;dbl&gt; | IsManualReport &lt;lgl&gt; | LogId &lt;dbl&gt; |\n",
       "|---|---|---|---|---|---|---|---|\n",
       "| 1503960366 | 5/2/2016 11:59:59 PM  |  52.6 | 115.9631 | 22 | 22.65 |  TRUE | 1.462234e+12 |\n",
       "| 1503960366 | 5/3/2016 11:59:59 PM  |  52.6 | 115.9631 | NA | 22.65 |  TRUE | 1.462320e+12 |\n",
       "| 1927972279 | 4/13/2016 1:08:52 AM  | 133.5 | 294.3171 | NA | 47.54 | FALSE | 1.460510e+12 |\n",
       "| 2873212765 | 4/21/2016 11:59:59 PM |  56.7 | 125.0021 | NA | 21.45 |  TRUE | 1.461283e+12 |\n",
       "| 2873212765 | 5/12/2016 11:59:59 PM |  57.3 | 126.3249 | NA | 21.69 |  TRUE | 1.463098e+12 |\n",
       "| 4319703577 | 4/17/2016 11:59:59 PM |  72.4 | 159.6147 | 25 | 27.45 |  TRUE | 1.460938e+12 |\n",
       "\n"
      ],
      "text/plain": [
       "  Id         Date                  WeightKg WeightPounds Fat BMI  \n",
       "1 1503960366 5/2/2016 11:59:59 PM   52.6    115.9631     22  22.65\n",
       "2 1503960366 5/3/2016 11:59:59 PM   52.6    115.9631     NA  22.65\n",
       "3 1927972279 4/13/2016 1:08:52 AM  133.5    294.3171     NA  47.54\n",
       "4 2873212765 4/21/2016 11:59:59 PM  56.7    125.0021     NA  21.45\n",
       "5 2873212765 5/12/2016 11:59:59 PM  57.3    126.3249     NA  21.69\n",
       "6 4319703577 4/17/2016 11:59:59 PM  72.4    159.6147     25  27.45\n",
       "  IsManualReport LogId       \n",
       "1  TRUE          1.462234e+12\n",
       "2  TRUE          1.462320e+12\n",
       "3 FALSE          1.460510e+12\n",
       "4  TRUE          1.461283e+12\n",
       "5  TRUE          1.463098e+12\n",
       "6  TRUE          1.460938e+12"
      ]
     },
     "metadata": {},
     "output_type": "display_data"
    }
   ],
   "source": [
    "head(daily_activity)\n",
    "head(heartrate_seconds)\n",
    "head(sleepDay)\n",
    "head(weightLog)"
   ]
  },
  {
   "cell_type": "markdown",
   "id": "0e449e5b",
   "metadata": {
    "papermill": {
     "duration": 0.014339,
     "end_time": "2023-11-29T09:28:37.062798",
     "exception": false,
     "start_time": "2023-11-29T09:28:37.048459",
     "status": "completed"
    },
    "tags": []
   },
   "source": [
    "I noticed some problems with the data. So, first I am going to correct them, before going to the analysis process."
   ]
  },
  {
   "cell_type": "markdown",
   "id": "3174c42c",
   "metadata": {
    "papermill": {
     "duration": 0.014096,
     "end_time": "2023-11-29T09:28:37.091123",
     "exception": false,
     "start_time": "2023-11-29T09:28:37.077027",
     "status": "completed"
    },
    "tags": []
   },
   "source": [
    "# Data Cleaning"
   ]
  },
  {
   "cell_type": "code",
   "execution_count": 4,
   "id": "988610f0",
   "metadata": {
    "execution": {
     "iopub.execute_input": "2023-11-29T09:28:37.124229Z",
     "iopub.status.busy": "2023-11-29T09:28:37.122072Z",
     "iopub.status.idle": "2023-11-29T09:28:44.926390Z",
     "shell.execute_reply": "2023-11-29T09:28:44.924511Z"
    },
    "papermill": {
     "duration": 7.823957,
     "end_time": "2023-11-29T09:28:44.929327",
     "exception": false,
     "start_time": "2023-11-29T09:28:37.105370",
     "status": "completed"
    },
    "tags": []
   },
   "outputs": [],
   "source": [
    "# daily_activity\n",
    "daily_activity$ActivityDate <- as.POSIXct(daily_activity$ActivityDate, format = \"%m/%d/%Y\", tz=Sys.timezone())\n",
    "daily_activity$date <- format(daily_activity$ActivityDate, format = \"%m/%d/%y\")\n",
    "#heartrate_seconds\n",
    "heartrate_seconds$Time <- as.POSIXct(heartrate_seconds$Time, format = \"%m/%d/%Y %H:%M:%S %p\",tz= Sys.timezone())\n",
    "heartrate_seconds$date <- format(heartrate_seconds$Time , format = \"%m/%d/%y\")\n",
    "heartrate_seconds$time <- format(heartrate_seconds$Time , format = \"%H:%M:%S\")\n",
    "#sleepDay\n",
    "sleepDay$SleepDay <- as.POSIXct(sleepDay$SleepDay, format = \"%m/%d/%Y %H:%M:%S %p\",tz= Sys.timezone())\n",
    "sleepDay$date <- format(sleepDay$SleepDay , format = \"%m/%d/%y\")\n",
    "sleepDay$time <- format(sleepDay$SleepDay , format = \"%H:%M:%S\")\n",
    "#weightLog\n",
    "weightLog$Date <- as.POSIXct(weightLog$Date, format = \"%m/%d/%Y %H:%M:%S %p\",tz= Sys.timezone())\n",
    "weightLog$date <- format(weightLog$Date , format = \"%m/%d/%y\")\n",
    "weightLog$time <- format(weightLog$Date , format = \"%H:%M:%S\")"
   ]
  },
  {
   "cell_type": "code",
   "execution_count": 5,
   "id": "03a2deef",
   "metadata": {
    "execution": {
     "iopub.execute_input": "2023-11-29T09:28:44.962182Z",
     "iopub.status.busy": "2023-11-29T09:28:44.960484Z",
     "iopub.status.idle": "2023-11-29T09:28:45.078989Z",
     "shell.execute_reply": "2023-11-29T09:28:45.077099Z"
    },
    "papermill": {
     "duration": 0.137973,
     "end_time": "2023-11-29T09:28:45.081592",
     "exception": false,
     "start_time": "2023-11-29T09:28:44.943619",
     "status": "completed"
    },
    "tags": []
   },
   "outputs": [
    {
     "data": {
      "text/html": [
       "<table class=\"dataframe\">\n",
       "<caption>A tibble: 6 × 16</caption>\n",
       "<thead>\n",
       "\t<tr><th scope=col>Id</th><th scope=col>ActivityDate</th><th scope=col>TotalSteps</th><th scope=col>TotalDistance</th><th scope=col>TrackerDistance</th><th scope=col>LoggedActivitiesDistance</th><th scope=col>VeryActiveDistance</th><th scope=col>ModeratelyActiveDistance</th><th scope=col>LightActiveDistance</th><th scope=col>SedentaryActiveDistance</th><th scope=col>VeryActiveMinutes</th><th scope=col>FairlyActiveMinutes</th><th scope=col>LightlyActiveMinutes</th><th scope=col>SedentaryMinutes</th><th scope=col>Calories</th><th scope=col>date</th></tr>\n",
       "\t<tr><th scope=col>&lt;dbl&gt;</th><th scope=col>&lt;dttm&gt;</th><th scope=col>&lt;dbl&gt;</th><th scope=col>&lt;dbl&gt;</th><th scope=col>&lt;dbl&gt;</th><th scope=col>&lt;dbl&gt;</th><th scope=col>&lt;dbl&gt;</th><th scope=col>&lt;dbl&gt;</th><th scope=col>&lt;dbl&gt;</th><th scope=col>&lt;dbl&gt;</th><th scope=col>&lt;dbl&gt;</th><th scope=col>&lt;dbl&gt;</th><th scope=col>&lt;dbl&gt;</th><th scope=col>&lt;dbl&gt;</th><th scope=col>&lt;dbl&gt;</th><th scope=col>&lt;chr&gt;</th></tr>\n",
       "</thead>\n",
       "<tbody>\n",
       "\t<tr><td>1503960366</td><td>2016-04-12</td><td>13162</td><td>8.50</td><td>8.50</td><td>0</td><td>1.88</td><td>0.55</td><td>6.06</td><td>0</td><td>25</td><td>13</td><td>328</td><td> 728</td><td>1985</td><td>04/12/16</td></tr>\n",
       "\t<tr><td>1503960366</td><td>2016-04-13</td><td>10735</td><td>6.97</td><td>6.97</td><td>0</td><td>1.57</td><td>0.69</td><td>4.71</td><td>0</td><td>21</td><td>19</td><td>217</td><td> 776</td><td>1797</td><td>04/13/16</td></tr>\n",
       "\t<tr><td>1503960366</td><td>2016-04-14</td><td>10460</td><td>6.74</td><td>6.74</td><td>0</td><td>2.44</td><td>0.40</td><td>3.91</td><td>0</td><td>30</td><td>11</td><td>181</td><td>1218</td><td>1776</td><td>04/14/16</td></tr>\n",
       "\t<tr><td>1503960366</td><td>2016-04-15</td><td> 9762</td><td>6.28</td><td>6.28</td><td>0</td><td>2.14</td><td>1.26</td><td>2.83</td><td>0</td><td>29</td><td>34</td><td>209</td><td> 726</td><td>1745</td><td>04/15/16</td></tr>\n",
       "\t<tr><td>1503960366</td><td>2016-04-16</td><td>12669</td><td>8.16</td><td>8.16</td><td>0</td><td>2.71</td><td>0.41</td><td>5.04</td><td>0</td><td>36</td><td>10</td><td>221</td><td> 773</td><td>1863</td><td>04/16/16</td></tr>\n",
       "\t<tr><td>1503960366</td><td>2016-04-17</td><td> 9705</td><td>6.48</td><td>6.48</td><td>0</td><td>3.19</td><td>0.78</td><td>2.51</td><td>0</td><td>38</td><td>20</td><td>164</td><td> 539</td><td>1728</td><td>04/17/16</td></tr>\n",
       "</tbody>\n",
       "</table>\n"
      ],
      "text/latex": [
       "A tibble: 6 × 16\n",
       "\\begin{tabular}{llllllllllllllll}\n",
       " Id & ActivityDate & TotalSteps & TotalDistance & TrackerDistance & LoggedActivitiesDistance & VeryActiveDistance & ModeratelyActiveDistance & LightActiveDistance & SedentaryActiveDistance & VeryActiveMinutes & FairlyActiveMinutes & LightlyActiveMinutes & SedentaryMinutes & Calories & date\\\\\n",
       " <dbl> & <dttm> & <dbl> & <dbl> & <dbl> & <dbl> & <dbl> & <dbl> & <dbl> & <dbl> & <dbl> & <dbl> & <dbl> & <dbl> & <dbl> & <chr>\\\\\n",
       "\\hline\n",
       "\t 1503960366 & 2016-04-12 & 13162 & 8.50 & 8.50 & 0 & 1.88 & 0.55 & 6.06 & 0 & 25 & 13 & 328 &  728 & 1985 & 04/12/16\\\\\n",
       "\t 1503960366 & 2016-04-13 & 10735 & 6.97 & 6.97 & 0 & 1.57 & 0.69 & 4.71 & 0 & 21 & 19 & 217 &  776 & 1797 & 04/13/16\\\\\n",
       "\t 1503960366 & 2016-04-14 & 10460 & 6.74 & 6.74 & 0 & 2.44 & 0.40 & 3.91 & 0 & 30 & 11 & 181 & 1218 & 1776 & 04/14/16\\\\\n",
       "\t 1503960366 & 2016-04-15 &  9762 & 6.28 & 6.28 & 0 & 2.14 & 1.26 & 2.83 & 0 & 29 & 34 & 209 &  726 & 1745 & 04/15/16\\\\\n",
       "\t 1503960366 & 2016-04-16 & 12669 & 8.16 & 8.16 & 0 & 2.71 & 0.41 & 5.04 & 0 & 36 & 10 & 221 &  773 & 1863 & 04/16/16\\\\\n",
       "\t 1503960366 & 2016-04-17 &  9705 & 6.48 & 6.48 & 0 & 3.19 & 0.78 & 2.51 & 0 & 38 & 20 & 164 &  539 & 1728 & 04/17/16\\\\\n",
       "\\end{tabular}\n"
      ],
      "text/markdown": [
       "\n",
       "A tibble: 6 × 16\n",
       "\n",
       "| Id &lt;dbl&gt; | ActivityDate &lt;dttm&gt; | TotalSteps &lt;dbl&gt; | TotalDistance &lt;dbl&gt; | TrackerDistance &lt;dbl&gt; | LoggedActivitiesDistance &lt;dbl&gt; | VeryActiveDistance &lt;dbl&gt; | ModeratelyActiveDistance &lt;dbl&gt; | LightActiveDistance &lt;dbl&gt; | SedentaryActiveDistance &lt;dbl&gt; | VeryActiveMinutes &lt;dbl&gt; | FairlyActiveMinutes &lt;dbl&gt; | LightlyActiveMinutes &lt;dbl&gt; | SedentaryMinutes &lt;dbl&gt; | Calories &lt;dbl&gt; | date &lt;chr&gt; |\n",
       "|---|---|---|---|---|---|---|---|---|---|---|---|---|---|---|---|\n",
       "| 1503960366 | 2016-04-12 | 13162 | 8.50 | 8.50 | 0 | 1.88 | 0.55 | 6.06 | 0 | 25 | 13 | 328 |  728 | 1985 | 04/12/16 |\n",
       "| 1503960366 | 2016-04-13 | 10735 | 6.97 | 6.97 | 0 | 1.57 | 0.69 | 4.71 | 0 | 21 | 19 | 217 |  776 | 1797 | 04/13/16 |\n",
       "| 1503960366 | 2016-04-14 | 10460 | 6.74 | 6.74 | 0 | 2.44 | 0.40 | 3.91 | 0 | 30 | 11 | 181 | 1218 | 1776 | 04/14/16 |\n",
       "| 1503960366 | 2016-04-15 |  9762 | 6.28 | 6.28 | 0 | 2.14 | 1.26 | 2.83 | 0 | 29 | 34 | 209 |  726 | 1745 | 04/15/16 |\n",
       "| 1503960366 | 2016-04-16 | 12669 | 8.16 | 8.16 | 0 | 2.71 | 0.41 | 5.04 | 0 | 36 | 10 | 221 |  773 | 1863 | 04/16/16 |\n",
       "| 1503960366 | 2016-04-17 |  9705 | 6.48 | 6.48 | 0 | 3.19 | 0.78 | 2.51 | 0 | 38 | 20 | 164 |  539 | 1728 | 04/17/16 |\n",
       "\n"
      ],
      "text/plain": [
       "  Id         ActivityDate TotalSteps TotalDistance TrackerDistance\n",
       "1 1503960366 2016-04-12   13162      8.50          8.50           \n",
       "2 1503960366 2016-04-13   10735      6.97          6.97           \n",
       "3 1503960366 2016-04-14   10460      6.74          6.74           \n",
       "4 1503960366 2016-04-15    9762      6.28          6.28           \n",
       "5 1503960366 2016-04-16   12669      8.16          8.16           \n",
       "6 1503960366 2016-04-17    9705      6.48          6.48           \n",
       "  LoggedActivitiesDistance VeryActiveDistance ModeratelyActiveDistance\n",
       "1 0                        1.88               0.55                    \n",
       "2 0                        1.57               0.69                    \n",
       "3 0                        2.44               0.40                    \n",
       "4 0                        2.14               1.26                    \n",
       "5 0                        2.71               0.41                    \n",
       "6 0                        3.19               0.78                    \n",
       "  LightActiveDistance SedentaryActiveDistance VeryActiveMinutes\n",
       "1 6.06                0                       25               \n",
       "2 4.71                0                       21               \n",
       "3 3.91                0                       30               \n",
       "4 2.83                0                       29               \n",
       "5 5.04                0                       36               \n",
       "6 2.51                0                       38               \n",
       "  FairlyActiveMinutes LightlyActiveMinutes SedentaryMinutes Calories date    \n",
       "1 13                  328                   728             1985     04/12/16\n",
       "2 19                  217                   776             1797     04/13/16\n",
       "3 11                  181                  1218             1776     04/14/16\n",
       "4 34                  209                   726             1745     04/15/16\n",
       "5 10                  221                   773             1863     04/16/16\n",
       "6 20                  164                   539             1728     04/17/16"
      ]
     },
     "metadata": {},
     "output_type": "display_data"
    },
    {
     "data": {
      "text/html": [
       "<table class=\"dataframe\">\n",
       "<caption>A tibble: 6 × 5</caption>\n",
       "<thead>\n",
       "\t<tr><th scope=col>Id</th><th scope=col>Time</th><th scope=col>Value</th><th scope=col>date</th><th scope=col>time</th></tr>\n",
       "\t<tr><th scope=col>&lt;dbl&gt;</th><th scope=col>&lt;dttm&gt;</th><th scope=col>&lt;dbl&gt;</th><th scope=col>&lt;chr&gt;</th><th scope=col>&lt;chr&gt;</th></tr>\n",
       "</thead>\n",
       "<tbody>\n",
       "\t<tr><td>2022484408</td><td>2016-04-12 07:21:00</td><td> 97</td><td>04/12/16</td><td>07:21:00</td></tr>\n",
       "\t<tr><td>2022484408</td><td>2016-04-12 07:21:05</td><td>102</td><td>04/12/16</td><td>07:21:05</td></tr>\n",
       "\t<tr><td>2022484408</td><td>2016-04-12 07:21:10</td><td>105</td><td>04/12/16</td><td>07:21:10</td></tr>\n",
       "\t<tr><td>2022484408</td><td>2016-04-12 07:21:20</td><td>103</td><td>04/12/16</td><td>07:21:20</td></tr>\n",
       "\t<tr><td>2022484408</td><td>2016-04-12 07:21:25</td><td>101</td><td>04/12/16</td><td>07:21:25</td></tr>\n",
       "\t<tr><td>2022484408</td><td>2016-04-12 07:22:05</td><td> 95</td><td>04/12/16</td><td>07:22:05</td></tr>\n",
       "</tbody>\n",
       "</table>\n"
      ],
      "text/latex": [
       "A tibble: 6 × 5\n",
       "\\begin{tabular}{lllll}\n",
       " Id & Time & Value & date & time\\\\\n",
       " <dbl> & <dttm> & <dbl> & <chr> & <chr>\\\\\n",
       "\\hline\n",
       "\t 2022484408 & 2016-04-12 07:21:00 &  97 & 04/12/16 & 07:21:00\\\\\n",
       "\t 2022484408 & 2016-04-12 07:21:05 & 102 & 04/12/16 & 07:21:05\\\\\n",
       "\t 2022484408 & 2016-04-12 07:21:10 & 105 & 04/12/16 & 07:21:10\\\\\n",
       "\t 2022484408 & 2016-04-12 07:21:20 & 103 & 04/12/16 & 07:21:20\\\\\n",
       "\t 2022484408 & 2016-04-12 07:21:25 & 101 & 04/12/16 & 07:21:25\\\\\n",
       "\t 2022484408 & 2016-04-12 07:22:05 &  95 & 04/12/16 & 07:22:05\\\\\n",
       "\\end{tabular}\n"
      ],
      "text/markdown": [
       "\n",
       "A tibble: 6 × 5\n",
       "\n",
       "| Id &lt;dbl&gt; | Time &lt;dttm&gt; | Value &lt;dbl&gt; | date &lt;chr&gt; | time &lt;chr&gt; |\n",
       "|---|---|---|---|---|\n",
       "| 2022484408 | 2016-04-12 07:21:00 |  97 | 04/12/16 | 07:21:00 |\n",
       "| 2022484408 | 2016-04-12 07:21:05 | 102 | 04/12/16 | 07:21:05 |\n",
       "| 2022484408 | 2016-04-12 07:21:10 | 105 | 04/12/16 | 07:21:10 |\n",
       "| 2022484408 | 2016-04-12 07:21:20 | 103 | 04/12/16 | 07:21:20 |\n",
       "| 2022484408 | 2016-04-12 07:21:25 | 101 | 04/12/16 | 07:21:25 |\n",
       "| 2022484408 | 2016-04-12 07:22:05 |  95 | 04/12/16 | 07:22:05 |\n",
       "\n"
      ],
      "text/plain": [
       "  Id         Time                Value date     time    \n",
       "1 2022484408 2016-04-12 07:21:00  97   04/12/16 07:21:00\n",
       "2 2022484408 2016-04-12 07:21:05 102   04/12/16 07:21:05\n",
       "3 2022484408 2016-04-12 07:21:10 105   04/12/16 07:21:10\n",
       "4 2022484408 2016-04-12 07:21:20 103   04/12/16 07:21:20\n",
       "5 2022484408 2016-04-12 07:21:25 101   04/12/16 07:21:25\n",
       "6 2022484408 2016-04-12 07:22:05  95   04/12/16 07:22:05"
      ]
     },
     "metadata": {},
     "output_type": "display_data"
    },
    {
     "data": {
      "text/html": [
       "<table class=\"dataframe\">\n",
       "<caption>A tibble: 6 × 7</caption>\n",
       "<thead>\n",
       "\t<tr><th scope=col>Id</th><th scope=col>SleepDay</th><th scope=col>TotalSleepRecords</th><th scope=col>TotalMinutesAsleep</th><th scope=col>TotalTimeInBed</th><th scope=col>date</th><th scope=col>time</th></tr>\n",
       "\t<tr><th scope=col>&lt;dbl&gt;</th><th scope=col>&lt;dttm&gt;</th><th scope=col>&lt;dbl&gt;</th><th scope=col>&lt;dbl&gt;</th><th scope=col>&lt;dbl&gt;</th><th scope=col>&lt;chr&gt;</th><th scope=col>&lt;chr&gt;</th></tr>\n",
       "</thead>\n",
       "<tbody>\n",
       "\t<tr><td>1503960366</td><td>2016-04-12 12:00:00</td><td>1</td><td>327</td><td>346</td><td>04/12/16</td><td>12:00:00</td></tr>\n",
       "\t<tr><td>1503960366</td><td>2016-04-13 12:00:00</td><td>2</td><td>384</td><td>407</td><td>04/13/16</td><td>12:00:00</td></tr>\n",
       "\t<tr><td>1503960366</td><td>2016-04-15 12:00:00</td><td>1</td><td>412</td><td>442</td><td>04/15/16</td><td>12:00:00</td></tr>\n",
       "\t<tr><td>1503960366</td><td>2016-04-16 12:00:00</td><td>2</td><td>340</td><td>367</td><td>04/16/16</td><td>12:00:00</td></tr>\n",
       "\t<tr><td>1503960366</td><td>2016-04-17 12:00:00</td><td>1</td><td>700</td><td>712</td><td>04/17/16</td><td>12:00:00</td></tr>\n",
       "\t<tr><td>1503960366</td><td>2016-04-19 12:00:00</td><td>1</td><td>304</td><td>320</td><td>04/19/16</td><td>12:00:00</td></tr>\n",
       "</tbody>\n",
       "</table>\n"
      ],
      "text/latex": [
       "A tibble: 6 × 7\n",
       "\\begin{tabular}{lllllll}\n",
       " Id & SleepDay & TotalSleepRecords & TotalMinutesAsleep & TotalTimeInBed & date & time\\\\\n",
       " <dbl> & <dttm> & <dbl> & <dbl> & <dbl> & <chr> & <chr>\\\\\n",
       "\\hline\n",
       "\t 1503960366 & 2016-04-12 12:00:00 & 1 & 327 & 346 & 04/12/16 & 12:00:00\\\\\n",
       "\t 1503960366 & 2016-04-13 12:00:00 & 2 & 384 & 407 & 04/13/16 & 12:00:00\\\\\n",
       "\t 1503960366 & 2016-04-15 12:00:00 & 1 & 412 & 442 & 04/15/16 & 12:00:00\\\\\n",
       "\t 1503960366 & 2016-04-16 12:00:00 & 2 & 340 & 367 & 04/16/16 & 12:00:00\\\\\n",
       "\t 1503960366 & 2016-04-17 12:00:00 & 1 & 700 & 712 & 04/17/16 & 12:00:00\\\\\n",
       "\t 1503960366 & 2016-04-19 12:00:00 & 1 & 304 & 320 & 04/19/16 & 12:00:00\\\\\n",
       "\\end{tabular}\n"
      ],
      "text/markdown": [
       "\n",
       "A tibble: 6 × 7\n",
       "\n",
       "| Id &lt;dbl&gt; | SleepDay &lt;dttm&gt; | TotalSleepRecords &lt;dbl&gt; | TotalMinutesAsleep &lt;dbl&gt; | TotalTimeInBed &lt;dbl&gt; | date &lt;chr&gt; | time &lt;chr&gt; |\n",
       "|---|---|---|---|---|---|---|\n",
       "| 1503960366 | 2016-04-12 12:00:00 | 1 | 327 | 346 | 04/12/16 | 12:00:00 |\n",
       "| 1503960366 | 2016-04-13 12:00:00 | 2 | 384 | 407 | 04/13/16 | 12:00:00 |\n",
       "| 1503960366 | 2016-04-15 12:00:00 | 1 | 412 | 442 | 04/15/16 | 12:00:00 |\n",
       "| 1503960366 | 2016-04-16 12:00:00 | 2 | 340 | 367 | 04/16/16 | 12:00:00 |\n",
       "| 1503960366 | 2016-04-17 12:00:00 | 1 | 700 | 712 | 04/17/16 | 12:00:00 |\n",
       "| 1503960366 | 2016-04-19 12:00:00 | 1 | 304 | 320 | 04/19/16 | 12:00:00 |\n",
       "\n"
      ],
      "text/plain": [
       "  Id         SleepDay            TotalSleepRecords TotalMinutesAsleep\n",
       "1 1503960366 2016-04-12 12:00:00 1                 327               \n",
       "2 1503960366 2016-04-13 12:00:00 2                 384               \n",
       "3 1503960366 2016-04-15 12:00:00 1                 412               \n",
       "4 1503960366 2016-04-16 12:00:00 2                 340               \n",
       "5 1503960366 2016-04-17 12:00:00 1                 700               \n",
       "6 1503960366 2016-04-19 12:00:00 1                 304               \n",
       "  TotalTimeInBed date     time    \n",
       "1 346            04/12/16 12:00:00\n",
       "2 407            04/13/16 12:00:00\n",
       "3 442            04/15/16 12:00:00\n",
       "4 367            04/16/16 12:00:00\n",
       "5 712            04/17/16 12:00:00\n",
       "6 320            04/19/16 12:00:00"
      ]
     },
     "metadata": {},
     "output_type": "display_data"
    },
    {
     "data": {
      "text/html": [
       "<table class=\"dataframe\">\n",
       "<caption>A tibble: 6 × 10</caption>\n",
       "<thead>\n",
       "\t<tr><th scope=col>Id</th><th scope=col>Date</th><th scope=col>WeightKg</th><th scope=col>WeightPounds</th><th scope=col>Fat</th><th scope=col>BMI</th><th scope=col>IsManualReport</th><th scope=col>LogId</th><th scope=col>date</th><th scope=col>time</th></tr>\n",
       "\t<tr><th scope=col>&lt;dbl&gt;</th><th scope=col>&lt;dttm&gt;</th><th scope=col>&lt;dbl&gt;</th><th scope=col>&lt;dbl&gt;</th><th scope=col>&lt;dbl&gt;</th><th scope=col>&lt;dbl&gt;</th><th scope=col>&lt;lgl&gt;</th><th scope=col>&lt;dbl&gt;</th><th scope=col>&lt;chr&gt;</th><th scope=col>&lt;chr&gt;</th></tr>\n",
       "</thead>\n",
       "<tbody>\n",
       "\t<tr><td>1503960366</td><td>2016-05-02 11:59:59</td><td> 52.6</td><td>115.9631</td><td>22</td><td>22.65</td><td> TRUE</td><td>1.462234e+12</td><td>05/02/16</td><td>11:59:59</td></tr>\n",
       "\t<tr><td>1503960366</td><td>2016-05-03 11:59:59</td><td> 52.6</td><td>115.9631</td><td>NA</td><td>22.65</td><td> TRUE</td><td>1.462320e+12</td><td>05/03/16</td><td>11:59:59</td></tr>\n",
       "\t<tr><td>1927972279</td><td>2016-04-13 01:08:52</td><td>133.5</td><td>294.3171</td><td>NA</td><td>47.54</td><td>FALSE</td><td>1.460510e+12</td><td>04/13/16</td><td>01:08:52</td></tr>\n",
       "\t<tr><td>2873212765</td><td>2016-04-21 11:59:59</td><td> 56.7</td><td>125.0021</td><td>NA</td><td>21.45</td><td> TRUE</td><td>1.461283e+12</td><td>04/21/16</td><td>11:59:59</td></tr>\n",
       "\t<tr><td>2873212765</td><td>2016-05-12 11:59:59</td><td> 57.3</td><td>126.3249</td><td>NA</td><td>21.69</td><td> TRUE</td><td>1.463098e+12</td><td>05/12/16</td><td>11:59:59</td></tr>\n",
       "\t<tr><td>4319703577</td><td>2016-04-17 11:59:59</td><td> 72.4</td><td>159.6147</td><td>25</td><td>27.45</td><td> TRUE</td><td>1.460938e+12</td><td>04/17/16</td><td>11:59:59</td></tr>\n",
       "</tbody>\n",
       "</table>\n"
      ],
      "text/latex": [
       "A tibble: 6 × 10\n",
       "\\begin{tabular}{llllllllll}\n",
       " Id & Date & WeightKg & WeightPounds & Fat & BMI & IsManualReport & LogId & date & time\\\\\n",
       " <dbl> & <dttm> & <dbl> & <dbl> & <dbl> & <dbl> & <lgl> & <dbl> & <chr> & <chr>\\\\\n",
       "\\hline\n",
       "\t 1503960366 & 2016-05-02 11:59:59 &  52.6 & 115.9631 & 22 & 22.65 &  TRUE & 1.462234e+12 & 05/02/16 & 11:59:59\\\\\n",
       "\t 1503960366 & 2016-05-03 11:59:59 &  52.6 & 115.9631 & NA & 22.65 &  TRUE & 1.462320e+12 & 05/03/16 & 11:59:59\\\\\n",
       "\t 1927972279 & 2016-04-13 01:08:52 & 133.5 & 294.3171 & NA & 47.54 & FALSE & 1.460510e+12 & 04/13/16 & 01:08:52\\\\\n",
       "\t 2873212765 & 2016-04-21 11:59:59 &  56.7 & 125.0021 & NA & 21.45 &  TRUE & 1.461283e+12 & 04/21/16 & 11:59:59\\\\\n",
       "\t 2873212765 & 2016-05-12 11:59:59 &  57.3 & 126.3249 & NA & 21.69 &  TRUE & 1.463098e+12 & 05/12/16 & 11:59:59\\\\\n",
       "\t 4319703577 & 2016-04-17 11:59:59 &  72.4 & 159.6147 & 25 & 27.45 &  TRUE & 1.460938e+12 & 04/17/16 & 11:59:59\\\\\n",
       "\\end{tabular}\n"
      ],
      "text/markdown": [
       "\n",
       "A tibble: 6 × 10\n",
       "\n",
       "| Id &lt;dbl&gt; | Date &lt;dttm&gt; | WeightKg &lt;dbl&gt; | WeightPounds &lt;dbl&gt; | Fat &lt;dbl&gt; | BMI &lt;dbl&gt; | IsManualReport &lt;lgl&gt; | LogId &lt;dbl&gt; | date &lt;chr&gt; | time &lt;chr&gt; |\n",
       "|---|---|---|---|---|---|---|---|---|---|\n",
       "| 1503960366 | 2016-05-02 11:59:59 |  52.6 | 115.9631 | 22 | 22.65 |  TRUE | 1.462234e+12 | 05/02/16 | 11:59:59 |\n",
       "| 1503960366 | 2016-05-03 11:59:59 |  52.6 | 115.9631 | NA | 22.65 |  TRUE | 1.462320e+12 | 05/03/16 | 11:59:59 |\n",
       "| 1927972279 | 2016-04-13 01:08:52 | 133.5 | 294.3171 | NA | 47.54 | FALSE | 1.460510e+12 | 04/13/16 | 01:08:52 |\n",
       "| 2873212765 | 2016-04-21 11:59:59 |  56.7 | 125.0021 | NA | 21.45 |  TRUE | 1.461283e+12 | 04/21/16 | 11:59:59 |\n",
       "| 2873212765 | 2016-05-12 11:59:59 |  57.3 | 126.3249 | NA | 21.69 |  TRUE | 1.463098e+12 | 05/12/16 | 11:59:59 |\n",
       "| 4319703577 | 2016-04-17 11:59:59 |  72.4 | 159.6147 | 25 | 27.45 |  TRUE | 1.460938e+12 | 04/17/16 | 11:59:59 |\n",
       "\n"
      ],
      "text/plain": [
       "  Id         Date                WeightKg WeightPounds Fat BMI   IsManualReport\n",
       "1 1503960366 2016-05-02 11:59:59  52.6    115.9631     22  22.65  TRUE         \n",
       "2 1503960366 2016-05-03 11:59:59  52.6    115.9631     NA  22.65  TRUE         \n",
       "3 1927972279 2016-04-13 01:08:52 133.5    294.3171     NA  47.54 FALSE         \n",
       "4 2873212765 2016-04-21 11:59:59  56.7    125.0021     NA  21.45  TRUE         \n",
       "5 2873212765 2016-05-12 11:59:59  57.3    126.3249     NA  21.69  TRUE         \n",
       "6 4319703577 2016-04-17 11:59:59  72.4    159.6147     25  27.45  TRUE         \n",
       "  LogId        date     time    \n",
       "1 1.462234e+12 05/02/16 11:59:59\n",
       "2 1.462320e+12 05/03/16 11:59:59\n",
       "3 1.460510e+12 04/13/16 01:08:52\n",
       "4 1.461283e+12 04/21/16 11:59:59\n",
       "5 1.463098e+12 05/12/16 11:59:59\n",
       "6 1.460938e+12 04/17/16 11:59:59"
      ]
     },
     "metadata": {},
     "output_type": "display_data"
    }
   ],
   "source": [
    "head(daily_activity)\n",
    "head(heartrate_seconds)\n",
    "head(sleepDay)\n",
    "head(weightLog)"
   ]
  },
  {
   "cell_type": "code",
   "execution_count": 6,
   "id": "5a7b0560",
   "metadata": {
    "execution": {
     "iopub.execute_input": "2023-11-29T09:28:45.116729Z",
     "iopub.status.busy": "2023-11-29T09:28:45.115038Z",
     "iopub.status.idle": "2023-11-29T09:28:45.230606Z",
     "shell.execute_reply": "2023-11-29T09:28:45.228752Z"
    },
    "papermill": {
     "duration": 0.136097,
     "end_time": "2023-11-29T09:28:45.233451",
     "exception": false,
     "start_time": "2023-11-29T09:28:45.097354",
     "status": "completed"
    },
    "tags": []
   },
   "outputs": [
    {
     "data": {
      "text/html": [
       "33"
      ],
      "text/latex": [
       "33"
      ],
      "text/markdown": [
       "33"
      ],
      "text/plain": [
       "[1] 33"
      ]
     },
     "metadata": {},
     "output_type": "display_data"
    },
    {
     "data": {
      "text/html": [
       "14"
      ],
      "text/latex": [
       "14"
      ],
      "text/markdown": [
       "14"
      ],
      "text/plain": [
       "[1] 14"
      ]
     },
     "metadata": {},
     "output_type": "display_data"
    },
    {
     "data": {
      "text/html": [
       "24"
      ],
      "text/latex": [
       "24"
      ],
      "text/markdown": [
       "24"
      ],
      "text/plain": [
       "[1] 24"
      ]
     },
     "metadata": {},
     "output_type": "display_data"
    },
    {
     "data": {
      "text/html": [
       "8"
      ],
      "text/latex": [
       "8"
      ],
      "text/markdown": [
       "8"
      ],
      "text/plain": [
       "[1] 8"
      ]
     },
     "metadata": {},
     "output_type": "display_data"
    }
   ],
   "source": [
    "n_distinct(daily_activity$Id)\n",
    "n_distinct(heartrate_seconds$Id)\n",
    "n_distinct(sleepDay$Id)\n",
    "n_distinct(weightLog$Id)"
   ]
  },
  {
   "cell_type": "markdown",
   "id": "5a6db3d5",
   "metadata": {
    "papermill": {
     "duration": 0.016241,
     "end_time": "2023-11-29T09:28:45.266191",
     "exception": false,
     "start_time": "2023-11-29T09:28:45.249950",
     "status": "completed"
    },
    "tags": []
   },
   "source": [
    "From above results, it is clear the data of weightLog and hearrate_seconds is too less.I am not using them for any analysis and insights. Beacause insights from insufficient data may cause unreliable and misleading conclusions."
   ]
  },
  {
   "cell_type": "markdown",
   "id": "d13d399a",
   "metadata": {
    "papermill": {
     "duration": 0.016154,
     "end_time": "2023-11-29T09:28:45.298440",
     "exception": false,
     "start_time": "2023-11-29T09:28:45.282286",
     "status": "completed"
    },
    "tags": []
   },
   "source": [
    "## Summary of each dataset"
   ]
  },
  {
   "cell_type": "code",
   "execution_count": 7,
   "id": "e5c8d1f8",
   "metadata": {
    "execution": {
     "iopub.execute_input": "2023-11-29T09:28:45.334675Z",
     "iopub.status.busy": "2023-11-29T09:28:45.333016Z",
     "iopub.status.idle": "2023-11-29T09:28:45.413508Z",
     "shell.execute_reply": "2023-11-29T09:28:45.411573Z"
    },
    "papermill": {
     "duration": 0.101293,
     "end_time": "2023-11-29T09:28:45.415977",
     "exception": false,
     "start_time": "2023-11-29T09:28:45.314684",
     "status": "completed"
    },
    "tags": []
   },
   "outputs": [
    {
     "data": {
      "text/plain": [
       "   TotalSteps    TotalDistance    VeryActiveMinutes LightlyActiveMinutes\n",
       " Min.   :    0   Min.   : 0.000   Min.   :  0.00    Min.   :  0.0       \n",
       " 1st Qu.: 3790   1st Qu.: 2.620   1st Qu.:  0.00    1st Qu.:127.0       \n",
       " Median : 7406   Median : 5.245   Median :  4.00    Median :199.0       \n",
       " Mean   : 7638   Mean   : 5.490   Mean   : 21.16    Mean   :192.8       \n",
       " 3rd Qu.:10727   3rd Qu.: 7.713   3rd Qu.: 32.00    3rd Qu.:264.0       \n",
       " Max.   :36019   Max.   :28.030   Max.   :210.00    Max.   :518.0       \n",
       " SedentaryMinutes    Calories   \n",
       " Min.   :   0.0   Min.   :   0  \n",
       " 1st Qu.: 729.8   1st Qu.:1828  \n",
       " Median :1057.5   Median :2134  \n",
       " Mean   : 991.2   Mean   :2304  \n",
       " 3rd Qu.:1229.5   3rd Qu.:2793  \n",
       " Max.   :1440.0   Max.   :4900  "
      ]
     },
     "metadata": {},
     "output_type": "display_data"
    },
    {
     "data": {
      "text/plain": [
       " TotalSleepRecords TotalMinutesAsleep TotalTimeInBed \n",
       " Min.   :1.000     Min.   : 58.0      Min.   : 61.0  \n",
       " 1st Qu.:1.000     1st Qu.:361.0      1st Qu.:403.0  \n",
       " Median :1.000     Median :433.0      Median :463.0  \n",
       " Mean   :1.119     Mean   :419.5      Mean   :458.6  \n",
       " 3rd Qu.:1.000     3rd Qu.:490.0      3rd Qu.:526.0  \n",
       " Max.   :3.000     Max.   :796.0      Max.   :961.0  "
      ]
     },
     "metadata": {},
     "output_type": "display_data"
    }
   ],
   "source": [
    "# daily_activity\n",
    "daily_activity %>%\n",
    "    select(TotalSteps,TotalDistance,VeryActiveMinutes,LightlyActiveMinutes,SedentaryMinutes,Calories) %>%\n",
    "    summary()\n",
    "#sleepDay\n",
    "sleepDay %>%\n",
    "    select(TotalSleepRecords,TotalMinutesAsleep,TotalTimeInBed) %>%\n",
    "    summary()"
   ]
  },
  {
   "cell_type": "markdown",
   "id": "6a453282",
   "metadata": {
    "papermill": {
     "duration": 0.016581,
     "end_time": "2023-11-29T09:28:45.449518",
     "exception": false,
     "start_time": "2023-11-29T09:28:45.432937",
     "status": "completed"
    },
    "tags": []
   },
   "source": [
    "**Basic insights from the summary**\n",
    "\n",
    "* Most the time participants are sedentary\n",
    "* Almost every participant having sleep once in a day\n",
    "* The average calories burnt by participants is 2304"
   ]
  },
  {
   "cell_type": "markdown",
   "id": "37a039f9",
   "metadata": {
    "papermill": {
     "duration": 0.016612,
     "end_time": "2023-11-29T09:28:45.482904",
     "exception": false,
     "start_time": "2023-11-29T09:28:45.466292",
     "status": "completed"
    },
    "tags": []
   },
   "source": [
    "# Merging data"
   ]
  },
  {
   "cell_type": "code",
   "execution_count": 8,
   "id": "1e2dcf9a",
   "metadata": {
    "execution": {
     "iopub.execute_input": "2023-11-29T09:28:45.519897Z",
     "iopub.status.busy": "2023-11-29T09:28:45.518066Z",
     "iopub.status.idle": "2023-11-29T09:28:45.569775Z",
     "shell.execute_reply": "2023-11-29T09:28:45.567755Z"
    },
    "papermill": {
     "duration": 0.07293,
     "end_time": "2023-11-29T09:28:45.572330",
     "exception": false,
     "start_time": "2023-11-29T09:28:45.499400",
     "status": "completed"
    },
    "tags": []
   },
   "outputs": [
    {
     "data": {
      "text/html": [
       "<table class=\"dataframe\">\n",
       "<caption>A data.frame: 6 × 21</caption>\n",
       "<thead>\n",
       "\t<tr><th></th><th scope=col>Id</th><th scope=col>date</th><th scope=col>ActivityDate</th><th scope=col>TotalSteps</th><th scope=col>TotalDistance</th><th scope=col>TrackerDistance</th><th scope=col>LoggedActivitiesDistance</th><th scope=col>VeryActiveDistance</th><th scope=col>ModeratelyActiveDistance</th><th scope=col>LightActiveDistance</th><th scope=col>⋯</th><th scope=col>VeryActiveMinutes</th><th scope=col>FairlyActiveMinutes</th><th scope=col>LightlyActiveMinutes</th><th scope=col>SedentaryMinutes</th><th scope=col>Calories</th><th scope=col>SleepDay</th><th scope=col>TotalSleepRecords</th><th scope=col>TotalMinutesAsleep</th><th scope=col>TotalTimeInBed</th><th scope=col>time</th></tr>\n",
       "\t<tr><th></th><th scope=col>&lt;dbl&gt;</th><th scope=col>&lt;chr&gt;</th><th scope=col>&lt;dttm&gt;</th><th scope=col>&lt;dbl&gt;</th><th scope=col>&lt;dbl&gt;</th><th scope=col>&lt;dbl&gt;</th><th scope=col>&lt;dbl&gt;</th><th scope=col>&lt;dbl&gt;</th><th scope=col>&lt;dbl&gt;</th><th scope=col>&lt;dbl&gt;</th><th scope=col>⋯</th><th scope=col>&lt;dbl&gt;</th><th scope=col>&lt;dbl&gt;</th><th scope=col>&lt;dbl&gt;</th><th scope=col>&lt;dbl&gt;</th><th scope=col>&lt;dbl&gt;</th><th scope=col>&lt;dttm&gt;</th><th scope=col>&lt;dbl&gt;</th><th scope=col>&lt;dbl&gt;</th><th scope=col>&lt;dbl&gt;</th><th scope=col>&lt;chr&gt;</th></tr>\n",
       "</thead>\n",
       "<tbody>\n",
       "\t<tr><th scope=row>1</th><td>1503960366</td><td>04/12/16</td><td>2016-04-12</td><td>13162</td><td>8.50</td><td>8.50</td><td>0</td><td>1.88</td><td>0.55</td><td>6.06</td><td>⋯</td><td>25</td><td>13</td><td>328</td><td>728</td><td>1985</td><td>2016-04-12 12:00:00</td><td>1</td><td>327</td><td>346</td><td>12:00:00</td></tr>\n",
       "\t<tr><th scope=row>2</th><td>1503960366</td><td>04/13/16</td><td>2016-04-13</td><td>10735</td><td>6.97</td><td>6.97</td><td>0</td><td>1.57</td><td>0.69</td><td>4.71</td><td>⋯</td><td>21</td><td>19</td><td>217</td><td>776</td><td>1797</td><td>2016-04-13 12:00:00</td><td>2</td><td>384</td><td>407</td><td>12:00:00</td></tr>\n",
       "\t<tr><th scope=row>3</th><td>1503960366</td><td>04/15/16</td><td>2016-04-15</td><td> 9762</td><td>6.28</td><td>6.28</td><td>0</td><td>2.14</td><td>1.26</td><td>2.83</td><td>⋯</td><td>29</td><td>34</td><td>209</td><td>726</td><td>1745</td><td>2016-04-15 12:00:00</td><td>1</td><td>412</td><td>442</td><td>12:00:00</td></tr>\n",
       "\t<tr><th scope=row>4</th><td>1503960366</td><td>04/16/16</td><td>2016-04-16</td><td>12669</td><td>8.16</td><td>8.16</td><td>0</td><td>2.71</td><td>0.41</td><td>5.04</td><td>⋯</td><td>36</td><td>10</td><td>221</td><td>773</td><td>1863</td><td>2016-04-16 12:00:00</td><td>2</td><td>340</td><td>367</td><td>12:00:00</td></tr>\n",
       "\t<tr><th scope=row>5</th><td>1503960366</td><td>04/17/16</td><td>2016-04-17</td><td> 9705</td><td>6.48</td><td>6.48</td><td>0</td><td>3.19</td><td>0.78</td><td>2.51</td><td>⋯</td><td>38</td><td>20</td><td>164</td><td>539</td><td>1728</td><td>2016-04-17 12:00:00</td><td>1</td><td>700</td><td>712</td><td>12:00:00</td></tr>\n",
       "\t<tr><th scope=row>6</th><td>1503960366</td><td>04/19/16</td><td>2016-04-19</td><td>15506</td><td>9.88</td><td>9.88</td><td>0</td><td>3.53</td><td>1.32</td><td>5.03</td><td>⋯</td><td>50</td><td>31</td><td>264</td><td>775</td><td>2035</td><td>2016-04-19 12:00:00</td><td>1</td><td>304</td><td>320</td><td>12:00:00</td></tr>\n",
       "</tbody>\n",
       "</table>\n"
      ],
      "text/latex": [
       "A data.frame: 6 × 21\n",
       "\\begin{tabular}{r|lllllllllllllllllllll}\n",
       "  & Id & date & ActivityDate & TotalSteps & TotalDistance & TrackerDistance & LoggedActivitiesDistance & VeryActiveDistance & ModeratelyActiveDistance & LightActiveDistance & ⋯ & VeryActiveMinutes & FairlyActiveMinutes & LightlyActiveMinutes & SedentaryMinutes & Calories & SleepDay & TotalSleepRecords & TotalMinutesAsleep & TotalTimeInBed & time\\\\\n",
       "  & <dbl> & <chr> & <dttm> & <dbl> & <dbl> & <dbl> & <dbl> & <dbl> & <dbl> & <dbl> & ⋯ & <dbl> & <dbl> & <dbl> & <dbl> & <dbl> & <dttm> & <dbl> & <dbl> & <dbl> & <chr>\\\\\n",
       "\\hline\n",
       "\t1 & 1503960366 & 04/12/16 & 2016-04-12 & 13162 & 8.50 & 8.50 & 0 & 1.88 & 0.55 & 6.06 & ⋯ & 25 & 13 & 328 & 728 & 1985 & 2016-04-12 12:00:00 & 1 & 327 & 346 & 12:00:00\\\\\n",
       "\t2 & 1503960366 & 04/13/16 & 2016-04-13 & 10735 & 6.97 & 6.97 & 0 & 1.57 & 0.69 & 4.71 & ⋯ & 21 & 19 & 217 & 776 & 1797 & 2016-04-13 12:00:00 & 2 & 384 & 407 & 12:00:00\\\\\n",
       "\t3 & 1503960366 & 04/15/16 & 2016-04-15 &  9762 & 6.28 & 6.28 & 0 & 2.14 & 1.26 & 2.83 & ⋯ & 29 & 34 & 209 & 726 & 1745 & 2016-04-15 12:00:00 & 1 & 412 & 442 & 12:00:00\\\\\n",
       "\t4 & 1503960366 & 04/16/16 & 2016-04-16 & 12669 & 8.16 & 8.16 & 0 & 2.71 & 0.41 & 5.04 & ⋯ & 36 & 10 & 221 & 773 & 1863 & 2016-04-16 12:00:00 & 2 & 340 & 367 & 12:00:00\\\\\n",
       "\t5 & 1503960366 & 04/17/16 & 2016-04-17 &  9705 & 6.48 & 6.48 & 0 & 3.19 & 0.78 & 2.51 & ⋯ & 38 & 20 & 164 & 539 & 1728 & 2016-04-17 12:00:00 & 1 & 700 & 712 & 12:00:00\\\\\n",
       "\t6 & 1503960366 & 04/19/16 & 2016-04-19 & 15506 & 9.88 & 9.88 & 0 & 3.53 & 1.32 & 5.03 & ⋯ & 50 & 31 & 264 & 775 & 2035 & 2016-04-19 12:00:00 & 1 & 304 & 320 & 12:00:00\\\\\n",
       "\\end{tabular}\n"
      ],
      "text/markdown": [
       "\n",
       "A data.frame: 6 × 21\n",
       "\n",
       "| <!--/--> | Id &lt;dbl&gt; | date &lt;chr&gt; | ActivityDate &lt;dttm&gt; | TotalSteps &lt;dbl&gt; | TotalDistance &lt;dbl&gt; | TrackerDistance &lt;dbl&gt; | LoggedActivitiesDistance &lt;dbl&gt; | VeryActiveDistance &lt;dbl&gt; | ModeratelyActiveDistance &lt;dbl&gt; | LightActiveDistance &lt;dbl&gt; | ⋯ ⋯ | VeryActiveMinutes &lt;dbl&gt; | FairlyActiveMinutes &lt;dbl&gt; | LightlyActiveMinutes &lt;dbl&gt; | SedentaryMinutes &lt;dbl&gt; | Calories &lt;dbl&gt; | SleepDay &lt;dttm&gt; | TotalSleepRecords &lt;dbl&gt; | TotalMinutesAsleep &lt;dbl&gt; | TotalTimeInBed &lt;dbl&gt; | time &lt;chr&gt; |\n",
       "|---|---|---|---|---|---|---|---|---|---|---|---|---|---|---|---|---|---|---|---|---|---|\n",
       "| 1 | 1503960366 | 04/12/16 | 2016-04-12 | 13162 | 8.50 | 8.50 | 0 | 1.88 | 0.55 | 6.06 | ⋯ | 25 | 13 | 328 | 728 | 1985 | 2016-04-12 12:00:00 | 1 | 327 | 346 | 12:00:00 |\n",
       "| 2 | 1503960366 | 04/13/16 | 2016-04-13 | 10735 | 6.97 | 6.97 | 0 | 1.57 | 0.69 | 4.71 | ⋯ | 21 | 19 | 217 | 776 | 1797 | 2016-04-13 12:00:00 | 2 | 384 | 407 | 12:00:00 |\n",
       "| 3 | 1503960366 | 04/15/16 | 2016-04-15 |  9762 | 6.28 | 6.28 | 0 | 2.14 | 1.26 | 2.83 | ⋯ | 29 | 34 | 209 | 726 | 1745 | 2016-04-15 12:00:00 | 1 | 412 | 442 | 12:00:00 |\n",
       "| 4 | 1503960366 | 04/16/16 | 2016-04-16 | 12669 | 8.16 | 8.16 | 0 | 2.71 | 0.41 | 5.04 | ⋯ | 36 | 10 | 221 | 773 | 1863 | 2016-04-16 12:00:00 | 2 | 340 | 367 | 12:00:00 |\n",
       "| 5 | 1503960366 | 04/17/16 | 2016-04-17 |  9705 | 6.48 | 6.48 | 0 | 3.19 | 0.78 | 2.51 | ⋯ | 38 | 20 | 164 | 539 | 1728 | 2016-04-17 12:00:00 | 1 | 700 | 712 | 12:00:00 |\n",
       "| 6 | 1503960366 | 04/19/16 | 2016-04-19 | 15506 | 9.88 | 9.88 | 0 | 3.53 | 1.32 | 5.03 | ⋯ | 50 | 31 | 264 | 775 | 2035 | 2016-04-19 12:00:00 | 1 | 304 | 320 | 12:00:00 |\n",
       "\n"
      ],
      "text/plain": [
       "  Id         date     ActivityDate TotalSteps TotalDistance TrackerDistance\n",
       "1 1503960366 04/12/16 2016-04-12   13162      8.50          8.50           \n",
       "2 1503960366 04/13/16 2016-04-13   10735      6.97          6.97           \n",
       "3 1503960366 04/15/16 2016-04-15    9762      6.28          6.28           \n",
       "4 1503960366 04/16/16 2016-04-16   12669      8.16          8.16           \n",
       "5 1503960366 04/17/16 2016-04-17    9705      6.48          6.48           \n",
       "6 1503960366 04/19/16 2016-04-19   15506      9.88          9.88           \n",
       "  LoggedActivitiesDistance VeryActiveDistance ModeratelyActiveDistance\n",
       "1 0                        1.88               0.55                    \n",
       "2 0                        1.57               0.69                    \n",
       "3 0                        2.14               1.26                    \n",
       "4 0                        2.71               0.41                    \n",
       "5 0                        3.19               0.78                    \n",
       "6 0                        3.53               1.32                    \n",
       "  LightActiveDistance ⋯ VeryActiveMinutes FairlyActiveMinutes\n",
       "1 6.06                ⋯ 25                13                 \n",
       "2 4.71                ⋯ 21                19                 \n",
       "3 2.83                ⋯ 29                34                 \n",
       "4 5.04                ⋯ 36                10                 \n",
       "5 2.51                ⋯ 38                20                 \n",
       "6 5.03                ⋯ 50                31                 \n",
       "  LightlyActiveMinutes SedentaryMinutes Calories SleepDay           \n",
       "1 328                  728              1985     2016-04-12 12:00:00\n",
       "2 217                  776              1797     2016-04-13 12:00:00\n",
       "3 209                  726              1745     2016-04-15 12:00:00\n",
       "4 221                  773              1863     2016-04-16 12:00:00\n",
       "5 164                  539              1728     2016-04-17 12:00:00\n",
       "6 264                  775              2035     2016-04-19 12:00:00\n",
       "  TotalSleepRecords TotalMinutesAsleep TotalTimeInBed time    \n",
       "1 1                 327                346            12:00:00\n",
       "2 2                 384                407            12:00:00\n",
       "3 1                 412                442            12:00:00\n",
       "4 2                 340                367            12:00:00\n",
       "5 1                 700                712            12:00:00\n",
       "6 1                 304                320            12:00:00"
      ]
     },
     "metadata": {},
     "output_type": "display_data"
    }
   ],
   "source": [
    "merged_data <- merge(daily_activity,sleepDay, by=c(\"Id\",\"date\"))\n",
    "head(merged_data)"
   ]
  },
  {
   "cell_type": "markdown",
   "id": "e8066ba9",
   "metadata": {
    "papermill": {
     "duration": 0.017011,
     "end_time": "2023-11-29T09:28:45.606339",
     "exception": false,
     "start_time": "2023-11-29T09:28:45.589328",
     "status": "completed"
    },
    "tags": []
   },
   "source": [
    "# Data Analysis"
   ]
  },
  {
   "cell_type": "markdown",
   "id": "938f6a03",
   "metadata": {
    "papermill": {
     "duration": 0.016954,
     "end_time": "2023-11-29T09:28:45.640201",
     "exception": false,
     "start_time": "2023-11-29T09:28:45.623247",
     "status": "completed"
    },
    "tags": []
   },
   "source": [
    "#### **1.Daily_Activity**"
   ]
  },
  {
   "cell_type": "code",
   "execution_count": 9,
   "id": "99488765",
   "metadata": {
    "execution": {
     "iopub.execute_input": "2023-11-29T09:28:45.679032Z",
     "iopub.status.busy": "2023-11-29T09:28:45.677171Z",
     "iopub.status.idle": "2023-11-29T09:28:45.737737Z",
     "shell.execute_reply": "2023-11-29T09:28:45.735661Z"
    },
    "papermill": {
     "duration": 0.0827,
     "end_time": "2023-11-29T09:28:45.740235",
     "exception": false,
     "start_time": "2023-11-29T09:28:45.657535",
     "status": "completed"
    },
    "tags": []
   },
   "outputs": [
    {
     "data": {
      "text/html": [
       "<table class=\"dataframe\">\n",
       "<caption>A tibble: 6 × 6</caption>\n",
       "<thead>\n",
       "\t<tr><th scope=col>Id</th><th scope=col>Avg_steps</th><th scope=col>Avg_very_active</th><th scope=col>Avg_light_active</th><th scope=col>Avg_sedentary_min</th><th scope=col>Avg_calories</th></tr>\n",
       "\t<tr><th scope=col>&lt;dbl&gt;</th><th scope=col>&lt;dbl&gt;</th><th scope=col>&lt;dbl&gt;</th><th scope=col>&lt;dbl&gt;</th><th scope=col>&lt;dbl&gt;</th><th scope=col>&lt;dbl&gt;</th></tr>\n",
       "</thead>\n",
       "<tbody>\n",
       "\t<tr><td>1503960366</td><td>12116.742</td><td>38.7096774</td><td>219.93548</td><td> 848.1613</td><td>1816.419</td></tr>\n",
       "\t<tr><td>1624580081</td><td> 5743.903</td><td> 8.6774194</td><td>153.48387</td><td>1257.7419</td><td>1483.355</td></tr>\n",
       "\t<tr><td>1644430081</td><td> 7282.967</td><td> 9.5666667</td><td>178.46667</td><td>1161.8667</td><td>2811.300</td></tr>\n",
       "\t<tr><td>1844505072</td><td> 2580.065</td><td> 0.1290323</td><td>115.45161</td><td>1206.6129</td><td>1573.484</td></tr>\n",
       "\t<tr><td>1927972279</td><td>  916.129</td><td> 1.3225806</td><td> 38.58065</td><td>1317.4194</td><td>2172.806</td></tr>\n",
       "\t<tr><td>2022484408</td><td>11370.645</td><td>36.2903226</td><td>257.45161</td><td>1112.5806</td><td>2509.968</td></tr>\n",
       "</tbody>\n",
       "</table>\n"
      ],
      "text/latex": [
       "A tibble: 6 × 6\n",
       "\\begin{tabular}{llllll}\n",
       " Id & Avg\\_steps & Avg\\_very\\_active & Avg\\_light\\_active & Avg\\_sedentary\\_min & Avg\\_calories\\\\\n",
       " <dbl> & <dbl> & <dbl> & <dbl> & <dbl> & <dbl>\\\\\n",
       "\\hline\n",
       "\t 1503960366 & 12116.742 & 38.7096774 & 219.93548 &  848.1613 & 1816.419\\\\\n",
       "\t 1624580081 &  5743.903 &  8.6774194 & 153.48387 & 1257.7419 & 1483.355\\\\\n",
       "\t 1644430081 &  7282.967 &  9.5666667 & 178.46667 & 1161.8667 & 2811.300\\\\\n",
       "\t 1844505072 &  2580.065 &  0.1290323 & 115.45161 & 1206.6129 & 1573.484\\\\\n",
       "\t 1927972279 &   916.129 &  1.3225806 &  38.58065 & 1317.4194 & 2172.806\\\\\n",
       "\t 2022484408 & 11370.645 & 36.2903226 & 257.45161 & 1112.5806 & 2509.968\\\\\n",
       "\\end{tabular}\n"
      ],
      "text/markdown": [
       "\n",
       "A tibble: 6 × 6\n",
       "\n",
       "| Id &lt;dbl&gt; | Avg_steps &lt;dbl&gt; | Avg_very_active &lt;dbl&gt; | Avg_light_active &lt;dbl&gt; | Avg_sedentary_min &lt;dbl&gt; | Avg_calories &lt;dbl&gt; |\n",
       "|---|---|---|---|---|---|\n",
       "| 1503960366 | 12116.742 | 38.7096774 | 219.93548 |  848.1613 | 1816.419 |\n",
       "| 1624580081 |  5743.903 |  8.6774194 | 153.48387 | 1257.7419 | 1483.355 |\n",
       "| 1644430081 |  7282.967 |  9.5666667 | 178.46667 | 1161.8667 | 2811.300 |\n",
       "| 1844505072 |  2580.065 |  0.1290323 | 115.45161 | 1206.6129 | 1573.484 |\n",
       "| 1927972279 |   916.129 |  1.3225806 |  38.58065 | 1317.4194 | 2172.806 |\n",
       "| 2022484408 | 11370.645 | 36.2903226 | 257.45161 | 1112.5806 | 2509.968 |\n",
       "\n"
      ],
      "text/plain": [
       "  Id         Avg_steps Avg_very_active Avg_light_active Avg_sedentary_min\n",
       "1 1503960366 12116.742 38.7096774      219.93548         848.1613        \n",
       "2 1624580081  5743.903  8.6774194      153.48387        1257.7419        \n",
       "3 1644430081  7282.967  9.5666667      178.46667        1161.8667        \n",
       "4 1844505072  2580.065  0.1290323      115.45161        1206.6129        \n",
       "5 1927972279   916.129  1.3225806       38.58065        1317.4194        \n",
       "6 2022484408 11370.645 36.2903226      257.45161        1112.5806        \n",
       "  Avg_calories\n",
       "1 1816.419    \n",
       "2 1483.355    \n",
       "3 2811.300    \n",
       "4 1573.484    \n",
       "5 2172.806    \n",
       "6 2509.968    "
      ]
     },
     "metadata": {},
     "output_type": "display_data"
    }
   ],
   "source": [
    "#daily_acitvity\n",
    "activity <- daily_activity %>%\n",
    "    group_by(Id) %>%\n",
    "    summarise(Avg_steps = mean(TotalSteps),Avg_very_active = mean(VeryActiveMinutes),Avg_light_active = mean(LightlyActiveMinutes),Avg_sedentary_min =mean(SedentaryMinutes),Avg_calories=mean(Calories))\n",
    "head(activity)"
   ]
  },
  {
   "cell_type": "markdown",
   "id": "f2d27308",
   "metadata": {
    "papermill": {
     "duration": 0.01765,
     "end_time": "2023-11-29T09:28:45.775677",
     "exception": false,
     "start_time": "2023-11-29T09:28:45.758027",
     "status": "completed"
    },
    "tags": []
   },
   "source": [
    "#### **2.Sleepday**"
   ]
  },
  {
   "cell_type": "code",
   "execution_count": 10,
   "id": "4dc6292e",
   "metadata": {
    "execution": {
     "iopub.execute_input": "2023-11-29T09:28:45.814786Z",
     "iopub.status.busy": "2023-11-29T09:28:45.812976Z",
     "iopub.status.idle": "2023-11-29T09:28:45.866355Z",
     "shell.execute_reply": "2023-11-29T09:28:45.864373Z"
    },
    "papermill": {
     "duration": 0.075669,
     "end_time": "2023-11-29T09:28:45.868796",
     "exception": false,
     "start_time": "2023-11-29T09:28:45.793127",
     "status": "completed"
    },
    "tags": []
   },
   "outputs": [
    {
     "data": {
      "text/html": [
       "<table class=\"dataframe\">\n",
       "<caption>A tibble: 6 × 6</caption>\n",
       "<thead>\n",
       "\t<tr><th scope=col>Id</th><th scope=col>Avg_steps</th><th scope=col>Avg_very_active</th><th scope=col>Avg_sedentary_min</th><th scope=col>Avg_time_asleep</th><th scope=col>Avg_time_sleep</th></tr>\n",
       "\t<tr><th scope=col>&lt;dbl&gt;</th><th scope=col>&lt;dbl&gt;</th><th scope=col>&lt;dbl&gt;</th><th scope=col>&lt;dbl&gt;</th><th scope=col>&lt;dbl&gt;</th><th scope=col>&lt;dbl&gt;</th></tr>\n",
       "</thead>\n",
       "<tbody>\n",
       "\t<tr><td>1503960366</td><td>12405.680</td><td>37.9200000</td><td> 759.2800</td><td>360.2800</td><td>383.2000</td></tr>\n",
       "\t<tr><td>1644430081</td><td> 7967.750</td><td> 2.5000000</td><td> 920.5000</td><td>294.0000</td><td>346.0000</td></tr>\n",
       "\t<tr><td>1844505072</td><td> 3477.000</td><td> 0.0000000</td><td> 443.3333</td><td>652.0000</td><td>961.0000</td></tr>\n",
       "\t<tr><td>1927972279</td><td> 1490.000</td><td> 0.0000000</td><td> 977.2000</td><td>417.0000</td><td>437.8000</td></tr>\n",
       "\t<tr><td>2026352035</td><td> 5618.679</td><td> 0.1071429</td><td> 653.9643</td><td>506.1786</td><td>537.6429</td></tr>\n",
       "\t<tr><td>2320127002</td><td> 5079.000</td><td> 0.0000000</td><td>1129.0000</td><td> 61.0000</td><td> 69.0000</td></tr>\n",
       "</tbody>\n",
       "</table>\n"
      ],
      "text/latex": [
       "A tibble: 6 × 6\n",
       "\\begin{tabular}{llllll}\n",
       " Id & Avg\\_steps & Avg\\_very\\_active & Avg\\_sedentary\\_min & Avg\\_time\\_asleep & Avg\\_time\\_sleep\\\\\n",
       " <dbl> & <dbl> & <dbl> & <dbl> & <dbl> & <dbl>\\\\\n",
       "\\hline\n",
       "\t 1503960366 & 12405.680 & 37.9200000 &  759.2800 & 360.2800 & 383.2000\\\\\n",
       "\t 1644430081 &  7967.750 &  2.5000000 &  920.5000 & 294.0000 & 346.0000\\\\\n",
       "\t 1844505072 &  3477.000 &  0.0000000 &  443.3333 & 652.0000 & 961.0000\\\\\n",
       "\t 1927972279 &  1490.000 &  0.0000000 &  977.2000 & 417.0000 & 437.8000\\\\\n",
       "\t 2026352035 &  5618.679 &  0.1071429 &  653.9643 & 506.1786 & 537.6429\\\\\n",
       "\t 2320127002 &  5079.000 &  0.0000000 & 1129.0000 &  61.0000 &  69.0000\\\\\n",
       "\\end{tabular}\n"
      ],
      "text/markdown": [
       "\n",
       "A tibble: 6 × 6\n",
       "\n",
       "| Id &lt;dbl&gt; | Avg_steps &lt;dbl&gt; | Avg_very_active &lt;dbl&gt; | Avg_sedentary_min &lt;dbl&gt; | Avg_time_asleep &lt;dbl&gt; | Avg_time_sleep &lt;dbl&gt; |\n",
       "|---|---|---|---|---|---|\n",
       "| 1503960366 | 12405.680 | 37.9200000 |  759.2800 | 360.2800 | 383.2000 |\n",
       "| 1644430081 |  7967.750 |  2.5000000 |  920.5000 | 294.0000 | 346.0000 |\n",
       "| 1844505072 |  3477.000 |  0.0000000 |  443.3333 | 652.0000 | 961.0000 |\n",
       "| 1927972279 |  1490.000 |  0.0000000 |  977.2000 | 417.0000 | 437.8000 |\n",
       "| 2026352035 |  5618.679 |  0.1071429 |  653.9643 | 506.1786 | 537.6429 |\n",
       "| 2320127002 |  5079.000 |  0.0000000 | 1129.0000 |  61.0000 |  69.0000 |\n",
       "\n"
      ],
      "text/plain": [
       "  Id         Avg_steps Avg_very_active Avg_sedentary_min Avg_time_asleep\n",
       "1 1503960366 12405.680 37.9200000       759.2800         360.2800       \n",
       "2 1644430081  7967.750  2.5000000       920.5000         294.0000       \n",
       "3 1844505072  3477.000  0.0000000       443.3333         652.0000       \n",
       "4 1927972279  1490.000  0.0000000       977.2000         417.0000       \n",
       "5 2026352035  5618.679  0.1071429       653.9643         506.1786       \n",
       "6 2320127002  5079.000  0.0000000      1129.0000          61.0000       \n",
       "  Avg_time_sleep\n",
       "1 383.2000      \n",
       "2 346.0000      \n",
       "3 961.0000      \n",
       "4 437.8000      \n",
       "5 537.6429      \n",
       "6  69.0000      "
      ]
     },
     "metadata": {},
     "output_type": "display_data"
    }
   ],
   "source": [
    "#sleepday\n",
    "sleep <- merged_data %>%\n",
    "    select(Id,date,TotalSteps,VeryActiveMinutes,SedentaryMinutes,TotalMinutesAsleep,TotalTimeInBed) %>%\n",
    "    group_by(Id) %>%\n",
    "    summarise(Avg_steps = mean(TotalSteps),Avg_very_active = mean(VeryActiveMinutes),Avg_sedentary_min =mean(SedentaryMinutes),Avg_time_asleep=mean(TotalMinutesAsleep),Avg_time_sleep=mean(TotalTimeInBed))\n",
    "head(sleep)\n",
    "    "
   ]
  },
  {
   "cell_type": "markdown",
   "id": "81052b97",
   "metadata": {
    "papermill": {
     "duration": 0.017675,
     "end_time": "2023-11-29T09:28:45.904237",
     "exception": false,
     "start_time": "2023-11-29T09:28:45.886562",
     "status": "completed"
    },
    "tags": []
   },
   "source": [
    "#### **3.Type of users per activity level**\n",
    "\n",
    "Let's try to categorize people based on activity level\n",
    "\n",
    "We can categorize users as follows:\n",
    "\n",
    "* Sedentary - Less than 5000 steps a day.\n",
    "* Lightly active - Between 5000 and 7499 steps a day.\n",
    "* Fairly active - Between 7500 and 9999 steps a day.\n",
    "* Very active - More than 10000 steps a day.\n"
   ]
  },
  {
   "cell_type": "markdown",
   "id": "b60f687b",
   "metadata": {
    "papermill": {
     "duration": 0.017741,
     "end_time": "2023-11-29T09:28:45.973410",
     "exception": false,
     "start_time": "2023-11-29T09:28:45.955669",
     "status": "completed"
    },
    "tags": []
   },
   "source": [
    "First we will catogerise the people"
   ]
  },
  {
   "cell_type": "code",
   "execution_count": 11,
   "id": "a81ee4a5",
   "metadata": {
    "execution": {
     "iopub.execute_input": "2023-11-29T09:28:46.013157Z",
     "iopub.status.busy": "2023-11-29T09:28:46.011362Z",
     "iopub.status.idle": "2023-11-29T09:28:46.056048Z",
     "shell.execute_reply": "2023-11-29T09:28:46.054095Z"
    },
    "papermill": {
     "duration": 0.067404,
     "end_time": "2023-11-29T09:28:46.058561",
     "exception": false,
     "start_time": "2023-11-29T09:28:45.991157",
     "status": "completed"
    },
    "tags": []
   },
   "outputs": [
    {
     "data": {
      "text/html": [
       "<table class=\"dataframe\">\n",
       "<caption>A tibble: 6 × 7</caption>\n",
       "<thead>\n",
       "\t<tr><th scope=col>Id</th><th scope=col>Avg_steps</th><th scope=col>Avg_very_active</th><th scope=col>Avg_light_active</th><th scope=col>Avg_sedentary_min</th><th scope=col>Avg_calories</th><th scope=col>user_type</th></tr>\n",
       "\t<tr><th scope=col>&lt;dbl&gt;</th><th scope=col>&lt;dbl&gt;</th><th scope=col>&lt;dbl&gt;</th><th scope=col>&lt;dbl&gt;</th><th scope=col>&lt;dbl&gt;</th><th scope=col>&lt;dbl&gt;</th><th scope=col>&lt;chr&gt;</th></tr>\n",
       "</thead>\n",
       "<tbody>\n",
       "\t<tr><td>1503960366</td><td>12116.742</td><td>38.7096774</td><td>219.93548</td><td> 848.1613</td><td>1816.419</td><td>very active   </td></tr>\n",
       "\t<tr><td>1624580081</td><td> 5743.903</td><td> 8.6774194</td><td>153.48387</td><td>1257.7419</td><td>1483.355</td><td>lightly active</td></tr>\n",
       "\t<tr><td>1644430081</td><td> 7282.967</td><td> 9.5666667</td><td>178.46667</td><td>1161.8667</td><td>2811.300</td><td>lightly active</td></tr>\n",
       "\t<tr><td>1844505072</td><td> 2580.065</td><td> 0.1290323</td><td>115.45161</td><td>1206.6129</td><td>1573.484</td><td>sedentary     </td></tr>\n",
       "\t<tr><td>1927972279</td><td>  916.129</td><td> 1.3225806</td><td> 38.58065</td><td>1317.4194</td><td>2172.806</td><td>sedentary     </td></tr>\n",
       "\t<tr><td>2022484408</td><td>11370.645</td><td>36.2903226</td><td>257.45161</td><td>1112.5806</td><td>2509.968</td><td>very active   </td></tr>\n",
       "</tbody>\n",
       "</table>\n"
      ],
      "text/latex": [
       "A tibble: 6 × 7\n",
       "\\begin{tabular}{lllllll}\n",
       " Id & Avg\\_steps & Avg\\_very\\_active & Avg\\_light\\_active & Avg\\_sedentary\\_min & Avg\\_calories & user\\_type\\\\\n",
       " <dbl> & <dbl> & <dbl> & <dbl> & <dbl> & <dbl> & <chr>\\\\\n",
       "\\hline\n",
       "\t 1503960366 & 12116.742 & 38.7096774 & 219.93548 &  848.1613 & 1816.419 & very active   \\\\\n",
       "\t 1624580081 &  5743.903 &  8.6774194 & 153.48387 & 1257.7419 & 1483.355 & lightly active\\\\\n",
       "\t 1644430081 &  7282.967 &  9.5666667 & 178.46667 & 1161.8667 & 2811.300 & lightly active\\\\\n",
       "\t 1844505072 &  2580.065 &  0.1290323 & 115.45161 & 1206.6129 & 1573.484 & sedentary     \\\\\n",
       "\t 1927972279 &   916.129 &  1.3225806 &  38.58065 & 1317.4194 & 2172.806 & sedentary     \\\\\n",
       "\t 2022484408 & 11370.645 & 36.2903226 & 257.45161 & 1112.5806 & 2509.968 & very active   \\\\\n",
       "\\end{tabular}\n"
      ],
      "text/markdown": [
       "\n",
       "A tibble: 6 × 7\n",
       "\n",
       "| Id &lt;dbl&gt; | Avg_steps &lt;dbl&gt; | Avg_very_active &lt;dbl&gt; | Avg_light_active &lt;dbl&gt; | Avg_sedentary_min &lt;dbl&gt; | Avg_calories &lt;dbl&gt; | user_type &lt;chr&gt; |\n",
       "|---|---|---|---|---|---|---|\n",
       "| 1503960366 | 12116.742 | 38.7096774 | 219.93548 |  848.1613 | 1816.419 | very active    |\n",
       "| 1624580081 |  5743.903 |  8.6774194 | 153.48387 | 1257.7419 | 1483.355 | lightly active |\n",
       "| 1644430081 |  7282.967 |  9.5666667 | 178.46667 | 1161.8667 | 2811.300 | lightly active |\n",
       "| 1844505072 |  2580.065 |  0.1290323 | 115.45161 | 1206.6129 | 1573.484 | sedentary      |\n",
       "| 1927972279 |   916.129 |  1.3225806 |  38.58065 | 1317.4194 | 2172.806 | sedentary      |\n",
       "| 2022484408 | 11370.645 | 36.2903226 | 257.45161 | 1112.5806 | 2509.968 | very active    |\n",
       "\n"
      ],
      "text/plain": [
       "  Id         Avg_steps Avg_very_active Avg_light_active Avg_sedentary_min\n",
       "1 1503960366 12116.742 38.7096774      219.93548         848.1613        \n",
       "2 1624580081  5743.903  8.6774194      153.48387        1257.7419        \n",
       "3 1644430081  7282.967  9.5666667      178.46667        1161.8667        \n",
       "4 1844505072  2580.065  0.1290323      115.45161        1206.6129        \n",
       "5 1927972279   916.129  1.3225806       38.58065        1317.4194        \n",
       "6 2022484408 11370.645 36.2903226      257.45161        1112.5806        \n",
       "  Avg_calories user_type     \n",
       "1 1816.419     very active   \n",
       "2 1483.355     lightly active\n",
       "3 2811.300     lightly active\n",
       "4 1573.484     sedentary     \n",
       "5 2172.806     sedentary     \n",
       "6 2509.968     very active   "
      ]
     },
     "metadata": {},
     "output_type": "display_data"
    }
   ],
   "source": [
    "user_type <- activity %>%\n",
    "  mutate(user_type = case_when(\n",
    "    Avg_steps < 5000 ~ \"sedentary\",\n",
    "    Avg_steps >= 5000 & Avg_steps < 7499 ~ \"lightly active\", \n",
    "    Avg_steps >= 7500 & Avg_steps < 9999 ~ \"fairly active\", \n",
    "    Avg_steps >= 10000 ~ \"very active\"\n",
    "  ))\n",
    "user_type1 <- user_type\n",
    "head(user_type)"
   ]
  },
  {
   "cell_type": "markdown",
   "id": "32876761",
   "metadata": {
    "papermill": {
     "duration": 0.018009,
     "end_time": "2023-11-29T09:28:46.094559",
     "exception": false,
     "start_time": "2023-11-29T09:28:46.076550",
     "status": "completed"
    },
    "tags": []
   },
   "source": [
    "Now let's find out the percentage of each category"
   ]
  },
  {
   "cell_type": "code",
   "execution_count": 12,
   "id": "49f624eb",
   "metadata": {
    "execution": {
     "iopub.execute_input": "2023-11-29T09:28:46.134089Z",
     "iopub.status.busy": "2023-11-29T09:28:46.132313Z",
     "iopub.status.idle": "2023-11-29T09:28:46.212726Z",
     "shell.execute_reply": "2023-11-29T09:28:46.177985Z"
    },
    "papermill": {
     "duration": 0.103609,
     "end_time": "2023-11-29T09:28:46.215929",
     "exception": false,
     "start_time": "2023-11-29T09:28:46.112320",
     "status": "completed"
    },
    "tags": []
   },
   "outputs": [
    {
     "data": {
      "text/html": [
       "<table class=\"dataframe\">\n",
       "<caption>A tibble: 4 × 3</caption>\n",
       "<thead>\n",
       "\t<tr><th scope=col>user_type</th><th scope=col>percentage</th><th scope=col>labels</th></tr>\n",
       "\t<tr><th scope=col>&lt;chr&gt;</th><th scope=col>&lt;dbl&gt;</th><th scope=col>&lt;chr&gt;</th></tr>\n",
       "</thead>\n",
       "<tbody>\n",
       "\t<tr><td>fairly active </td><td>0.2727273</td><td>27.3%</td></tr>\n",
       "\t<tr><td>lightly active</td><td>0.2727273</td><td>27.3%</td></tr>\n",
       "\t<tr><td>sedentary     </td><td>0.2424242</td><td>24.2%</td></tr>\n",
       "\t<tr><td>very active   </td><td>0.2121212</td><td>21.2%</td></tr>\n",
       "</tbody>\n",
       "</table>\n"
      ],
      "text/latex": [
       "A tibble: 4 × 3\n",
       "\\begin{tabular}{lll}\n",
       " user\\_type & percentage & labels\\\\\n",
       " <chr> & <dbl> & <chr>\\\\\n",
       "\\hline\n",
       "\t fairly active  & 0.2727273 & 27.3\\%\\\\\n",
       "\t lightly active & 0.2727273 & 27.3\\%\\\\\n",
       "\t sedentary      & 0.2424242 & 24.2\\%\\\\\n",
       "\t very active    & 0.2121212 & 21.2\\%\\\\\n",
       "\\end{tabular}\n"
      ],
      "text/markdown": [
       "\n",
       "A tibble: 4 × 3\n",
       "\n",
       "| user_type &lt;chr&gt; | percentage &lt;dbl&gt; | labels &lt;chr&gt; |\n",
       "|---|---|---|\n",
       "| fairly active  | 0.2727273 | 27.3% |\n",
       "| lightly active | 0.2727273 | 27.3% |\n",
       "| sedentary      | 0.2424242 | 24.2% |\n",
       "| very active    | 0.2121212 | 21.2% |\n",
       "\n"
      ],
      "text/plain": [
       "  user_type      percentage labels\n",
       "1 fairly active  0.2727273  27.3% \n",
       "2 lightly active 0.2727273  27.3% \n",
       "3 sedentary      0.2424242  24.2% \n",
       "4 very active    0.2121212  21.2% "
      ]
     },
     "metadata": {},
     "output_type": "display_data"
    }
   ],
   "source": [
    "user_type_percentage1 <- user_type1 %>%\n",
    "    group_by(user_type) %>%\n",
    "    summarise(total = n()) %>%\n",
    "    mutate(totals = sum(total)) %>%\n",
    "    group_by(user_type) %>%\n",
    "    summarise(percentage = total/totals) %>%\n",
    "    mutate(labels = scales::percent(percentage))\n",
    "\n",
    "\n",
    "user_type_percentage1"
   ]
  },
  {
   "cell_type": "code",
   "execution_count": 13,
   "id": "2a3344be",
   "metadata": {
    "execution": {
     "iopub.execute_input": "2023-11-29T09:28:46.257256Z",
     "iopub.status.busy": "2023-11-29T09:28:46.254884Z",
     "iopub.status.idle": "2023-11-29T09:28:46.303191Z",
     "shell.execute_reply": "2023-11-29T09:28:46.301264Z"
    },
    "papermill": {
     "duration": 0.071446,
     "end_time": "2023-11-29T09:28:46.305815",
     "exception": false,
     "start_time": "2023-11-29T09:28:46.234369",
     "status": "completed"
    },
    "tags": []
   },
   "outputs": [
    {
     "data": {
      "text/html": [
       "<table class=\"dataframe\">\n",
       "<caption>A tibble: 4 × 3</caption>\n",
       "<thead>\n",
       "\t<tr><th scope=col>user_type</th><th scope=col>percentage</th><th scope=col>labels</th></tr>\n",
       "\t<tr><th scope=col>&lt;fct&gt;</th><th scope=col>&lt;dbl&gt;</th><th scope=col>&lt;chr&gt;</th></tr>\n",
       "</thead>\n",
       "<tbody>\n",
       "\t<tr><td>fairly active </td><td>0.2727273</td><td>27.3%</td></tr>\n",
       "\t<tr><td>lightly active</td><td>0.2727273</td><td>27.3%</td></tr>\n",
       "\t<tr><td>sedentary     </td><td>0.2424242</td><td>24.2%</td></tr>\n",
       "\t<tr><td>very active   </td><td>0.2121212</td><td>21.2%</td></tr>\n",
       "</tbody>\n",
       "</table>\n"
      ],
      "text/latex": [
       "A tibble: 4 × 3\n",
       "\\begin{tabular}{lll}\n",
       " user\\_type & percentage & labels\\\\\n",
       " <fct> & <dbl> & <chr>\\\\\n",
       "\\hline\n",
       "\t fairly active  & 0.2727273 & 27.3\\%\\\\\n",
       "\t lightly active & 0.2727273 & 27.3\\%\\\\\n",
       "\t sedentary      & 0.2424242 & 24.2\\%\\\\\n",
       "\t very active    & 0.2121212 & 21.2\\%\\\\\n",
       "\\end{tabular}\n"
      ],
      "text/markdown": [
       "\n",
       "A tibble: 4 × 3\n",
       "\n",
       "| user_type &lt;fct&gt; | percentage &lt;dbl&gt; | labels &lt;chr&gt; |\n",
       "|---|---|---|\n",
       "| fairly active  | 0.2727273 | 27.3% |\n",
       "| lightly active | 0.2727273 | 27.3% |\n",
       "| sedentary      | 0.2424242 | 24.2% |\n",
       "| very active    | 0.2121212 | 21.2% |\n",
       "\n"
      ],
      "text/plain": [
       "  user_type      percentage labels\n",
       "1 fairly active  0.2727273  27.3% \n",
       "2 lightly active 0.2727273  27.3% \n",
       "3 sedentary      0.2424242  24.2% \n",
       "4 very active    0.2121212  21.2% "
      ]
     },
     "metadata": {},
     "output_type": "display_data"
    }
   ],
   "source": [
    "user_type_percentage <- user_type1 %>%\n",
    "    group_by(user_type) %>%\n",
    "    summarise(total = n()) %>%\n",
    "    mutate(totals = sum(total)) %>%\n",
    "    group_by(user_type) %>%\n",
    "    summarise(percentage = total/totals) %>%\n",
    "    mutate(labels = scales::percent(percentage))\n",
    "\n",
    "user_type_percentage$user_type <- factor(user_type_percentage$user_type,levels = c(\"very active\", \"fairly active\", \"lightly active\", \"sedentary\"))\n",
    "\n",
    "user_type_percentage"
   ]
  },
  {
   "cell_type": "markdown",
   "id": "172ebcc8",
   "metadata": {
    "papermill": {
     "duration": 0.018656,
     "end_time": "2023-11-29T09:28:46.343319",
     "exception": false,
     "start_time": "2023-11-29T09:28:46.324663",
     "status": "completed"
    },
    "tags": []
   },
   "source": [
    "# Visualizations"
   ]
  },
  {
   "cell_type": "markdown",
   "id": "d6ce8333",
   "metadata": {
    "papermill": {
     "duration": 0.018621,
     "end_time": "2023-11-29T09:28:46.380564",
     "exception": false,
     "start_time": "2023-11-29T09:28:46.361943",
     "status": "completed"
    },
    "tags": []
   },
   "source": [
    "* I assume or it is usual that as the number of steps increases the calories burnt also increase. Let's find out through visualizations."
   ]
  },
  {
   "cell_type": "markdown",
   "id": "9c64e8f1",
   "metadata": {
    "papermill": {
     "duration": 0.018606,
     "end_time": "2023-11-29T09:28:46.417778",
     "exception": false,
     "start_time": "2023-11-29T09:28:46.399172",
     "status": "completed"
    },
    "tags": []
   },
   "source": [
    "#### **TotalSteps vs Avg_calories**"
   ]
  },
  {
   "cell_type": "code",
   "execution_count": 14,
   "id": "4954c22e",
   "metadata": {
    "execution": {
     "iopub.execute_input": "2023-11-29T09:28:46.458846Z",
     "iopub.status.busy": "2023-11-29T09:28:46.457127Z",
     "iopub.status.idle": "2023-11-29T09:28:48.413965Z",
     "shell.execute_reply": "2023-11-29T09:28:48.412145Z"
    },
    "papermill": {
     "duration": 1.980737,
     "end_time": "2023-11-29T09:28:48.417111",
     "exception": false,
     "start_time": "2023-11-29T09:28:46.436374",
     "status": "completed"
    },
    "tags": []
   },
   "outputs": [
    {
     "name": "stderr",
     "output_type": "stream",
     "text": [
      "\u001b[1m\u001b[22m`geom_smooth()` using method = 'loess' and formula = 'y ~ x'\n"
     ]
    },
    {
     "data": {
      "image/png": "[encoded data removed]"
     },
     "metadata": {
      "image/png": {
       "height": 420,
       "width": 420
      }
     },
     "output_type": "display_data"
    }
   ],
   "source": [
    "# DailyActivity\n",
    "activity %>%\n",
    "    ggplot(aes(x=Avg_steps,y=Avg_calories)) + \n",
    "    geom_smooth() +\n",
    "    labs(title = \"TotalSteps vs Avg_calories\")"
   ]
  },
  {
   "cell_type": "markdown",
   "id": "2c55155b",
   "metadata": {
    "papermill": {
     "duration": 0.019582,
     "end_time": "2023-11-29T09:28:48.456420",
     "exception": false,
     "start_time": "2023-11-29T09:28:48.436838",
     "status": "completed"
    },
    "tags": []
   },
   "source": [
    "As a contrast to my assumption the graph is not always increasing with increase in steps.\n",
    "* From we can conclude that above 11000 steps, as the participants walk more means they burn more calories."
   ]
  },
  {
   "cell_type": "markdown",
   "id": "17158526",
   "metadata": {
    "papermill": {
     "duration": 0.019474,
     "end_time": "2023-11-29T09:28:48.495272",
     "exception": false,
     "start_time": "2023-11-29T09:28:48.475798",
     "status": "completed"
    },
    "tags": []
   },
   "source": [
    "#### **TotalSteps vs Avg_very_active**"
   ]
  },
  {
   "cell_type": "code",
   "execution_count": 15,
   "id": "9759679a",
   "metadata": {
    "execution": {
     "iopub.execute_input": "2023-11-29T09:28:48.538343Z",
     "iopub.status.busy": "2023-11-29T09:28:48.536624Z",
     "iopub.status.idle": "2023-11-29T09:28:48.959481Z",
     "shell.execute_reply": "2023-11-29T09:28:48.957666Z"
    },
    "papermill": {
     "duration": 0.447837,
     "end_time": "2023-11-29T09:28:48.962541",
     "exception": false,
     "start_time": "2023-11-29T09:28:48.514704",
     "status": "completed"
    },
    "tags": []
   },
   "outputs": [
    {
     "name": "stderr",
     "output_type": "stream",
     "text": [
      "\u001b[1m\u001b[22m`geom_smooth()` using method = 'loess' and formula = 'y ~ x'\n"
     ]
    },
    {
     "data": {
      "image/png": "[encoded data removed]"
     },
     "metadata": {
      "image/png": {
       "height": 420,
       "width": 420
      }
     },
     "output_type": "display_data"
    }
   ],
   "source": [
    "# DailyActivity\n",
    "activity   %>%\n",
    "    ggplot(aes(x=Avg_steps,y=Avg_very_active)) + \n",
    "    geom_smooth() +\n",
    "    labs(title = \"TotalSteps vs Avg_very_active\")"
   ]
  },
  {
   "cell_type": "markdown",
   "id": "9f8db9e4",
   "metadata": {
    "papermill": {
     "duration": 0.021137,
     "end_time": "2023-11-29T09:28:49.004642",
     "exception": false,
     "start_time": "2023-11-29T09:28:48.983505",
     "status": "completed"
    },
    "tags": []
   },
   "source": [
    "From above it is clear that a linear relationship exists between the amount of time the particpants are very active and the steps they walk.\n",
    "By this we can conclude that:\n",
    "* People who walk more, are very active for a long time.\n",
    "* People who are very active for a long time, walk/work more."
   ]
  },
  {
   "cell_type": "markdown",
   "id": "0faf098b",
   "metadata": {
    "papermill": {
     "duration": 0.021211,
     "end_time": "2023-11-29T09:28:49.046817",
     "exception": false,
     "start_time": "2023-11-29T09:28:49.025606",
     "status": "completed"
    },
    "tags": []
   },
   "source": [
    "#### **TotalSteps vs Avg_sedentary_min**"
   ]
  },
  {
   "cell_type": "code",
   "execution_count": 16,
   "id": "9777d25a",
   "metadata": {
    "execution": {
     "iopub.execute_input": "2023-11-29T09:28:49.093663Z",
     "iopub.status.busy": "2023-11-29T09:28:49.092003Z",
     "iopub.status.idle": "2023-11-29T09:28:49.385297Z",
     "shell.execute_reply": "2023-11-29T09:28:49.383417Z"
    },
    "papermill": {
     "duration": 0.320069,
     "end_time": "2023-11-29T09:28:49.388380",
     "exception": false,
     "start_time": "2023-11-29T09:28:49.068311",
     "status": "completed"
    },
    "tags": []
   },
   "outputs": [
    {
     "name": "stderr",
     "output_type": "stream",
     "text": [
      "\u001b[1m\u001b[22m`geom_smooth()` using method = 'loess' and formula = 'y ~ x'\n"
     ]
    },
    {
     "data": {
      "image/png": "[encoded data removed]"
     },
     "metadata": {
      "image/png": {
       "height": 420,
       "width": 420
      }
     },
     "output_type": "display_data"
    }
   ],
   "source": [
    "#DailyActivity\n",
    "activity %>%\n",
    "    ggplot(aes(x=Avg_steps,y=Avg_sedentary_min)) + \n",
    "    geom_smooth() +\n",
    "    labs(title = \"TotalSteps vs Avg_sedentary_min\")"
   ]
  },
  {
   "cell_type": "markdown",
   "id": "abff562f",
   "metadata": {
    "papermill": {
     "duration": 0.022228,
     "end_time": "2023-11-29T09:28:49.432796",
     "exception": false,
     "start_time": "2023-11-29T09:28:49.410568",
     "status": "completed"
    },
    "tags": []
   },
   "source": [
    "1. The person who are walking less than 8000 steps and above 120000 daily are less active and sedentary.\n",
    "2. It is recomended to walk between 8000 to 12000 steps daily."
   ]
  },
  {
   "cell_type": "markdown",
   "id": "66b43893",
   "metadata": {
    "papermill": {
     "duration": 0.022186,
     "end_time": "2023-11-29T09:28:49.477145",
     "exception": false,
     "start_time": "2023-11-29T09:28:49.454959",
     "status": "completed"
    },
    "tags": []
   },
   "source": [
    "#### **Sleep time of people**"
   ]
  },
  {
   "cell_type": "code",
   "execution_count": 17,
   "id": "60b768ff",
   "metadata": {
    "execution": {
     "iopub.execute_input": "2023-11-29T09:28:49.525546Z",
     "iopub.status.busy": "2023-11-29T09:28:49.523920Z",
     "iopub.status.idle": "2023-11-29T09:28:49.810121Z",
     "shell.execute_reply": "2023-11-29T09:28:49.808261Z"
    },
    "papermill": {
     "duration": 0.313123,
     "end_time": "2023-11-29T09:28:49.812486",
     "exception": false,
     "start_time": "2023-11-29T09:28:49.499363",
     "status": "completed"
    },
    "tags": []
   },
   "outputs": [
    {
     "name": "stderr",
     "output_type": "stream",
     "text": [
      "\u001b[1m\u001b[22m`stat_bin()` using `bins = 30`. Pick better value with `binwidth`.\n"
     ]
    },
    {
     "data": {
      "image/png": "[encoded data removed]"
     },
     "metadata": {
      "image/png": {
       "height": 420,
       "width": 420
      }
     },
     "output_type": "display_data"
    }
   ],
   "source": [
    "sleep %>%\n",
    "    ggplot(aes(x=Avg_time_sleep))+\n",
    "    geom_histogram(fill='darkblue') + \n",
    "    labs(title=\"Sleep time of people\")"
   ]
  },
  {
   "cell_type": "markdown",
   "id": "0b36acc0",
   "metadata": {
    "papermill": {
     "duration": 0.023864,
     "end_time": "2023-11-29T09:28:49.859476",
     "exception": false,
     "start_time": "2023-11-29T09:28:49.835612",
     "status": "completed"
    },
    "tags": []
   },
   "source": [
    "I observe most participants are sleeping in the range of 350 to 525 minutes a day, which is not a good thing.\n",
    "\n",
    "Let's analyse the reason."
   ]
  },
  {
   "cell_type": "markdown",
   "id": "e6e7594f",
   "metadata": {
    "papermill": {
     "duration": 0.022885,
     "end_time": "2023-11-29T09:28:49.905037",
     "exception": false,
     "start_time": "2023-11-29T09:28:49.882152",
     "status": "completed"
    },
    "tags": []
   },
   "source": [
    "#### **VeryActiveMinutes Vs TotalTimeInBed**"
   ]
  },
  {
   "cell_type": "code",
   "execution_count": 18,
   "id": "b3fc97ff",
   "metadata": {
    "execution": {
     "iopub.execute_input": "2023-11-29T09:28:49.955240Z",
     "iopub.status.busy": "2023-11-29T09:28:49.952945Z",
     "iopub.status.idle": "2023-11-29T09:28:50.285075Z",
     "shell.execute_reply": "2023-11-29T09:28:50.283275Z"
    },
    "papermill": {
     "duration": 0.361002,
     "end_time": "2023-11-29T09:28:50.288623",
     "exception": false,
     "start_time": "2023-11-29T09:28:49.927621",
     "status": "completed"
    },
    "tags": []
   },
   "outputs": [
    {
     "name": "stderr",
     "output_type": "stream",
     "text": [
      "\u001b[1m\u001b[22m`geom_smooth()` using method = 'loess' and formula = 'y ~ x'\n"
     ]
    },
    {
     "data": {
      "image/png": "[encoded data removed]"
     },
     "metadata": {
      "image/png": {
       "height": 420,
       "width": 420
      }
     },
     "output_type": "display_data"
    }
   ],
   "source": [
    "merged_data %>%\n",
    "    ggplot(aes(x=TotalTimeInBed,y=VeryActiveMinutes))+\n",
    "    geom_point() +\n",
    "    geom_smooth() "
   ]
  },
  {
   "cell_type": "markdown",
   "id": "2511ea5e",
   "metadata": {
    "papermill": {
     "duration": 0.024514,
     "end_time": "2023-11-29T09:28:50.338197",
     "exception": false,
     "start_time": "2023-11-29T09:28:50.313683",
     "status": "completed"
    },
    "tags": []
   },
   "source": [
    "People who are very active and working for a long time are having TotalTimeInBed of range 375 to 525 minutes.\n",
    "\n",
    "From this I conlude that who are very active and working for a long time are neglecting sleep, which may cause health issues."
   ]
  },
  {
   "cell_type": "markdown",
   "id": "566c2893",
   "metadata": {
    "papermill": {
     "duration": 0.024272,
     "end_time": "2023-11-29T09:28:50.386604",
     "exception": false,
     "start_time": "2023-11-29T09:28:50.362332",
     "status": "completed"
    },
    "tags": []
   },
   "source": [
    "#### **Share of each type of people**"
   ]
  },
  {
   "cell_type": "code",
   "execution_count": 19,
   "id": "82be4cfa",
   "metadata": {
    "execution": {
     "iopub.execute_input": "2023-11-29T09:28:50.439126Z",
     "iopub.status.busy": "2023-11-29T09:28:50.437450Z",
     "iopub.status.idle": "2023-11-29T09:28:50.914691Z",
     "shell.execute_reply": "2023-11-29T09:28:50.912815Z"
    },
    "papermill": {
     "duration": 0.52561,
     "end_time": "2023-11-29T09:28:50.936444",
     "exception": false,
     "start_time": "2023-11-29T09:28:50.410834",
     "status": "completed"
    },
    "tags": []
   },
   "outputs": [
    {
     "data": {
      "image/png": "[encoded data removed]"
     },
     "metadata": {
      "image/png": {
       "height": 420,
       "width": 420
      }
     },
     "output_type": "display_data"
    }
   ],
   "source": [
    "user_type_percentage %>%\n",
    "    ggplot(aes(x=\"\",y=percentage,fill = user_type)) +\n",
    "    geom_bar(stat = \"identity\",width =1) +\n",
    "    coord_polar(\"y\",start = 0) +\n",
    "    theme_minimal() +\n",
    "    theme(axis.title.x= element_blank(),\n",
    "          axis.title.y = element_blank(),\n",
    "          axis.ticks = element_blank(),\n",
    "          panel.grid = element_blank(), \n",
    "          plot.title = element_text(hjust = 0.5, size=14, face = \"bold\"),\n",
    "          axis.text.x = element_blank())+\n",
    "    geom_text(aes(label = labels),position = position_stack(vjust = 0.5))+\n",
    "    labs(title=\"User type distribution\")\n"
   ]
  },
  {
   "cell_type": "markdown",
   "id": "6dbf6623",
   "metadata": {
    "papermill": {
     "duration": 0.025419,
     "end_time": "2023-11-29T09:28:50.987891",
     "exception": false,
     "start_time": "2023-11-29T09:28:50.962472",
     "status": "completed"
    },
    "tags": []
   },
   "source": [
    "# Summarizing the insights and recommendations for the company\n",
    "\n",
    "\n",
    "![](https://imagedelivery.net/6fPUSNcQhoEe4ndYlFOD6w/326ac096-0bff-4150-b4f4-1f9ceb602e00/email600)\n",
    "\n",
    "* After 11000 steps there is a linear correlation between steps and calories burnt. So, the company should include a target steps of 11000 or above and minimal rewards or vouchers inorder to motivate the participants to burn more calories.\n",
    "\n",
    "* Participants who very active for a long time are working a lot and neglecting sleep, which have consequences of health issues. So, there should monitering of sufficient sleep for a person by gadget. And recommending to sleep when ever necessary.\n",
    "\n",
    "* By the visualizations I assume that most of the participants are working professionals and negelecting their health due to heavy work. \n",
    "\n",
    "* It is also clear that the participants are busy at the day time and free only in the evenigns.\n",
    "\n",
    "* So, I recommend the company to promote about the healt care the women should take and about the advantages and features of thier products in the evenings.\n",
    "\n",
    "* We can also observe that most people are either fairly active or lightly active. So, we should focus more on them and convert them into very active persons.\n",
    "\n",
    "Thankyou for visiting my Case study. This is my first project on Data analysis.\n",
    "\n",
    "I am happy to receive any suggestions and recommendations from you."
   ]
  }
 ],
 "metadata": {
  "kaggle": {
   "accelerator": "none",
   "dataSources": [
    {
     "datasetId": 1041311,
     "sourceId": 1752235,
     "sourceType": "datasetVersion"
    }
   ],
   "dockerImageVersionId": 30582,
   "isGpuEnabled": false,
   "isInternetEnabled": false,
   "language": "r",
   "sourceType": "notebook"
  },
  "kernelspec": {
   "display_name": "Python 3 (ipykernel)",
   "language": "python",
   "name": "python3"
  },
  "language_info": {
   "codemirror_mode": {
    "name": "ipython",
    "version": 3
   },
   "file_extension": ".py",
   "mimetype": "text/x-python",
   "name": "python",
   "nbconvert_exporter": "python",
   "pygments_lexer": "ipython3",
   "version": "3.11.4"
  },
  "papermill": {
   "default_parameters": {},
   "duration": 23.121278,
   "end_time": "2023-11-29T09:28:51.135351",
   "environment_variables": {},
   "exception": null,
   "input_path": "__notebook__.ipynb",
   "output_path": "__notebook__.ipynb",
   "parameters": {},
   "start_time": "2023-11-29T09:28:28.014073",
   "version": "2.4.0"
  }
 },
 "nbformat": 4,
 "nbformat_minor": 5
}
